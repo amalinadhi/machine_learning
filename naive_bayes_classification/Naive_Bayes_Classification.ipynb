{
 "cells": [
  {
   "cell_type": "markdown",
   "id": "31b91d86",
   "metadata": {},
   "source": [
    "# Naive Bayes\n",
    "\n",
    "disadur dari: https://appliedmachinelearning.blog/2017/05/23/understanding-naive-bayes-classifier-from-scratch-python-code/"
   ]
  },
  {
   "cell_type": "markdown",
   "id": "98f45617",
   "metadata": {},
   "source": [
    "---\n",
    "\n",
    "- Menggunakan konsep teorema Bayes\n",
    "\n",
    "$$\n",
    "P(O|E) = \\cfrac{P(E|O) * P(O)}{P(E)}\n",
    "$$\n",
    "\n",
    "- Dengan:\n",
    "  - $P(O)$ adalah **prior probability**, peluang terjadinya $O$\n",
    "  - $P(E)$ adalah **evidence**, peluang terjadinya event $E$\n",
    "  - $P(O|E)$ adalah **posterior probability**, peluang terjadinya $O$ setelah mengetahui event $E$\n",
    "  - $P(E|O)$ adalah **likelihood**, menjawab pertanyaan \"*Berapa peluang terjadi event-$E$ apabila terjadi $O$ ?*\"\n",
    "  \n",
    "  \n",
    "- Bisa ditulis juga dengan\n",
    "\n",
    "$$\n",
    "\\text{posterior probability} = \\cfrac{\\text{likelihood} * \\text{prior probability}}{\\text{evidence}}\n",
    "$$\n"
   ]
  },
  {
   "cell_type": "markdown",
   "id": "e756faa8",
   "metadata": {},
   "source": [
    "---\n",
    "**Mengapa disebut *Naive*?**\n",
    "\n",
    "- Pada kenyataannya, peluang terjadinya $O$ mungkin dipengaruhi oleh beberapa event.\n",
    "- Secara matematika, \n",
    "  - jika $O$ bergantung pada event $E_{1}, E_{2}, \\cdots, E_{n}$\n",
    "  - dan dengan asumsi $E_{1}, E_{2}, \\cdots, E_{n}$ tidak bergantung satu sama lain, maka\n",
    "  \n",
    "$$\n",
    "P(O|E_{1}, E_{2}, \\cdots, E_{n}) = \\cfrac{P(E_{1}|O) * P(E_{2}|O) * \\cdots * P(E_{n}|O)}{P(E_{1}) * P(E_{2}) * \\cdots * P(E_{n})} * P(O)\n",
    "$$\n",
    "\n",
    "- Dengan ini, model **sangat naive** mempercayai bahwa terjadinya event-event tidak saling mempengaruhi satu sama lain.\n",
    "- Harusnya, di dunia real tidak terjadi seperti ini karena antar fitur mungkin saling mempengaruhi satu sama lain.\n",
    "- Namun, Naive Bayes masih terbukti dapat memberikan hasil yang bagus dibandingkan model klasifikasi yang computationally expensive"
   ]
  },
  {
   "cell_type": "markdown",
   "id": "bb812baf",
   "metadata": {},
   "source": [
    "---\n",
    "\n",
    "## Contoh 1 - Categorical Data\n",
    "\n",
    "- Diberikan data berikut\n",
    "\n",
    "|chills|runny nose|headache|fever|flu (target)|\n",
    "|:--:|:--:|:--:|:--:|:--:|\n",
    "|Y|N|Mild|Y|N|\n",
    "|Y|Y|No|N|Y|\n",
    "|Y|N|Strong|Y|Y|\n",
    "|N|Y|Mild|Y|Y|\n",
    "|N|N|No|N|N|\n",
    "|N|Y|Strong|Y|Y|\n",
    "|N|Y|Strong|N|N|\n",
    "|Y|Y|Mild|Y|Y|\n",
    "\n",
    "- Coba lakukan klasifikasi apakah data berikut menghasilkan flu / tidak?\n",
    "\n",
    "|chills|runny nose|headache|fever|flu (target)|\n",
    "|:--:|:--:|:--:|:--:|:--:|\n",
    "|Y|N|Mild|N|?|\n"
   ]
  },
  {
   "cell_type": "markdown",
   "id": "78a4ce52",
   "metadata": {},
   "source": [
    "- Bagaimana cara melakukan klasifikasinya?\n",
    "\n",
    "\n",
    "- Kita misalkan\n",
    "  - $E_{1} = (\\text{chills} = Y)$\n",
    "  - $E_{2} = (\\text{runny nose} = N)$\n",
    "  - $E_{3} = (\\text{headache} = \\text{Mild})$\n",
    "  - $E_{4} = (\\text{fever} N)$\n",
    "\n",
    "\n",
    "- Selanjutnya, kita mencari\n",
    "  - $P(\\text{flu} = Y | E_{1}, E_{2}, E_{3}, E_{4})$ \n",
    "  - $P(\\text{flu} = N | E_{1}, E_{2}, E_{3}, E_{4})$ \n",
    "  \n",
    "  \n",
    "- Terakhir kita tinggal bandingkan, probability mana yang lebih besar. \n",
    "\n",
    "\n",
    "- Apabila $P(\\text{flu}=Y | E_{1}, E_{2}, E_{3}, E_{4}) > P(\\text{flu}=N | E_{1}, E_{2}, E_{3}, E_{4})$, maka data tersebut menghasilkan hasil klasifikasi flu. Begitu juga sebaliknya"
   ]
  },
  {
   "cell_type": "markdown",
   "id": "16256f67",
   "metadata": {},
   "source": [
    "---\n",
    "**Cara hitung**\n",
    "\n",
    "- $P(\\text{flu} = Y) = P(O) = \\cfrac{5}{8} = 0.625$\n",
    "\n",
    "- $P(\\text{chills} = Y | \\text{flu} = Y) = P(E_{1} | O) = \\cfrac{3}{5} = 0.6$\n",
    "\n",
    "- $P(\\text{runny nose} = N | \\text{flu} = Y) = P(E_{2} | O) = \\cfrac{1}{5} = 0.2$\n",
    "\n",
    "- $P(\\text{headache} = \\text{Mild} | \\text{flu} = Y) = P(E_{3} | O) = \\cfrac{2}{5} = 0.4$\n",
    "\n",
    "- $P(\\text{fever} = N | \\text{flu} = Y) = P(E_{4} | O) = \\cfrac{1}{5} = 0.2$\n",
    "\n",
    "- $P(\\text{chills} = Y) = P(E_{1}) = \\cfrac{4}{8} = 0.5$\n",
    "\n",
    "- $P(\\text{runny nose} = N) = P(E_{2}) = \\cfrac{3}{8} = 0.375$\n",
    "\n",
    "- $P(\\text{headache} = \\text{Mild}) = P(E_{3}) = \\cfrac{3}{8} = 0.375$\n",
    "\n",
    "- $P(\\text{fever} = N) = P(E_{4}) = \\cfrac{3}{8} = 0.375$"
   ]
  },
  {
   "cell_type": "markdown",
   "id": "5b4d7fa4",
   "metadata": {},
   "source": [
    "---\n",
    "\n",
    "- Maka\n",
    "\n",
    "$$\n",
    "P(\\text{flu}=Y|E_{1}, E_{2}, E_{3}, E_{4}) = \\cfrac{P(E_{1}|O) * P(E_{2}|O) * P(E_{3}|O) * P(E_{4}|O)}{P(E_{1}) * P(E_{2}) * P(E_{3}) * P(E_{4})} * P(O)\n",
    "$$\n",
    "\n",
    "$$\n",
    "P(\\text{flu}=Y|E_{1}, E_{2}, E_{3}, E_{4}) = \\cfrac{0.6 * 0.2 * 0.4 * 0.2}{0.5 * 0.375 * 0.375 * 0.375} * 0.625\n",
    "$$\n",
    "\n",
    "$$\n",
    "P(\\text{flu}=Y|E_{1}, E_{2}, E_{3}, E_{4}) = 0.227\n",
    "$$\n",
    "\n",
    "\n",
    "- Dengan cara yang sama, maka diperoleh\n",
    "\n",
    "$$\n",
    "P(\\text{flu}=N|E_{1}, E_{2}, E_{3}, E_{4}) = 0.674\n",
    "$$\n"
   ]
  },
  {
   "cell_type": "markdown",
   "id": "0bddbf0b",
   "metadata": {},
   "source": [
    "---\n",
    "- Karena $P(\\text{flu}=Y | E_{1}, E_{2}, E_{3}, E_{4}) < P(\\text{flu}=N | E_{1}, E_{2}, E_{3}, E_{4})$\n",
    "- artinya, posterior probability kelas **tidak flu** lebih besar dibandingkan kelas **flu**\n",
    "- sehingga hasil prediksinya adalah **tidak flu**"
   ]
  },
  {
   "cell_type": "markdown",
   "id": "31248bd1",
   "metadata": {},
   "source": [
    "---\n",
    "## Coba dengan Python"
   ]
  },
  {
   "cell_type": "code",
   "execution_count": 1,
   "id": "382a5a34",
   "metadata": {},
   "outputs": [],
   "source": [
    "import numpy as np\n",
    "import pandas as pd\n",
    "import matplotlib.pyplot as plt"
   ]
  },
  {
   "cell_type": "code",
   "execution_count": 2,
   "id": "d78d92f9",
   "metadata": {},
   "outputs": [
    {
     "data": {
      "text/html": [
       "<div>\n",
       "<style scoped>\n",
       "    .dataframe tbody tr th:only-of-type {\n",
       "        vertical-align: middle;\n",
       "    }\n",
       "\n",
       "    .dataframe tbody tr th {\n",
       "        vertical-align: top;\n",
       "    }\n",
       "\n",
       "    .dataframe thead th {\n",
       "        text-align: right;\n",
       "    }\n",
       "</style>\n",
       "<table border=\"1\" class=\"dataframe\">\n",
       "  <thead>\n",
       "    <tr style=\"text-align: right;\">\n",
       "      <th></th>\n",
       "      <th>chills</th>\n",
       "      <th>runny nose</th>\n",
       "      <th>headache</th>\n",
       "      <th>fever</th>\n",
       "      <th>flu?</th>\n",
       "    </tr>\n",
       "  </thead>\n",
       "  <tbody>\n",
       "    <tr>\n",
       "      <th>0</th>\n",
       "      <td>Y</td>\n",
       "      <td>N</td>\n",
       "      <td>Mild</td>\n",
       "      <td>Y</td>\n",
       "      <td>N</td>\n",
       "    </tr>\n",
       "    <tr>\n",
       "      <th>1</th>\n",
       "      <td>Y</td>\n",
       "      <td>Y</td>\n",
       "      <td>No</td>\n",
       "      <td>N</td>\n",
       "      <td>Y</td>\n",
       "    </tr>\n",
       "    <tr>\n",
       "      <th>2</th>\n",
       "      <td>Y</td>\n",
       "      <td>N</td>\n",
       "      <td>Strong</td>\n",
       "      <td>Y</td>\n",
       "      <td>Y</td>\n",
       "    </tr>\n",
       "    <tr>\n",
       "      <th>3</th>\n",
       "      <td>N</td>\n",
       "      <td>Y</td>\n",
       "      <td>Mild</td>\n",
       "      <td>Y</td>\n",
       "      <td>Y</td>\n",
       "    </tr>\n",
       "    <tr>\n",
       "      <th>4</th>\n",
       "      <td>N</td>\n",
       "      <td>N</td>\n",
       "      <td>No</td>\n",
       "      <td>N</td>\n",
       "      <td>N</td>\n",
       "    </tr>\n",
       "    <tr>\n",
       "      <th>5</th>\n",
       "      <td>N</td>\n",
       "      <td>Y</td>\n",
       "      <td>Strong</td>\n",
       "      <td>Y</td>\n",
       "      <td>Y</td>\n",
       "    </tr>\n",
       "    <tr>\n",
       "      <th>6</th>\n",
       "      <td>N</td>\n",
       "      <td>Y</td>\n",
       "      <td>Strong</td>\n",
       "      <td>N</td>\n",
       "      <td>N</td>\n",
       "    </tr>\n",
       "    <tr>\n",
       "      <th>7</th>\n",
       "      <td>Y</td>\n",
       "      <td>Y</td>\n",
       "      <td>Mild</td>\n",
       "      <td>Y</td>\n",
       "      <td>Y</td>\n",
       "    </tr>\n",
       "  </tbody>\n",
       "</table>\n",
       "</div>"
      ],
      "text/plain": [
       "  chills runny nose headache fever flu?\n",
       "0      Y          N     Mild     Y    N\n",
       "1      Y          Y       No     N    Y\n",
       "2      Y          N   Strong     Y    Y\n",
       "3      N          Y     Mild     Y    Y\n",
       "4      N          N       No     N    N\n",
       "5      N          Y   Strong     Y    Y\n",
       "6      N          Y   Strong     N    N\n",
       "7      Y          Y     Mild     Y    Y"
      ]
     },
     "execution_count": 2,
     "metadata": {},
     "output_type": "execute_result"
    }
   ],
   "source": [
    "# Buat Dataset\n",
    "data = {'chills': ['Y', 'Y', 'Y', 'N', 'N', 'N', 'N', 'Y'],\n",
    "        'runny nose': ['N', 'Y', 'N', 'Y', 'N', 'Y', 'Y', 'Y'],\n",
    "        'headache': ['Mild', 'No', 'Strong', 'Mild', 'No', 'Strong', 'Strong', 'Mild'],\n",
    "        'fever': ['Y', 'N', 'Y', 'Y', 'N', 'Y', 'N', 'Y']}\n",
    "\n",
    "target = ['N', 'Y', 'Y', 'Y', 'N', 'Y', 'N', 'Y']\n",
    "\n",
    "\n",
    "# Buat dataframe\n",
    "df = pd.DataFrame(data)\n",
    "df['flu?'] = target\n",
    "\n",
    "# Print dataframe\n",
    "df"
   ]
  },
  {
   "cell_type": "code",
   "execution_count": 3,
   "id": "b6c988ae",
   "metadata": {},
   "outputs": [
    {
     "name": "stdout",
     "output_type": "stream",
     "text": [
      "[[1 0 1 1]\n",
      " [1 1 0 0]\n",
      " [1 0 2 1]\n",
      " [0 1 1 1]\n",
      " [0 0 0 0]\n",
      " [0 1 2 1]\n",
      " [0 1 2 0]\n",
      " [1 1 1 1]]\n",
      "[0 1 1 1 0 1 0 1]\n"
     ]
    }
   ],
   "source": [
    "# Preprocess data\n",
    "def preprocess_dataframe(data):\n",
    "    # Convert categorical to numerical data\n",
    "    # Chills\n",
    "    data['chills'] = data['chills'].apply(lambda x: 0 if x=='N' else 1)\n",
    "\n",
    "    # Runny nose\n",
    "    data['runny nose'] = data['runny nose'].apply(lambda x: 0 if x=='N' else 1)\n",
    "\n",
    "    # Headache\n",
    "    data['headache'] = data['headache'].apply(lambda x: 0 if x=='No' else 1 if x=='Mild' else 2)\n",
    "\n",
    "    # Fever\n",
    "    data['fever'] = data['fever'].apply(lambda x: 0 if x=='N' else 1)\n",
    "\n",
    "    # Target\n",
    "    if 'flu?' in data.columns:\n",
    "        data['flu?'] = data['flu?'].apply(lambda x: 0 if x=='N' else 1)\n",
    "\n",
    "        # Set X & y\n",
    "        y = data['flu?'].to_numpy()\n",
    "        X = data.drop(['flu?'], axis=1).to_numpy()\n",
    "    \n",
    "        return X, y\n",
    "    else:\n",
    "        X = data.to_numpy()\n",
    "        \n",
    "        return X, None\n",
    "\n",
    "# Execute preprocessing data\n",
    "X, y = preprocess_dataframe(df)\n",
    "print(X)\n",
    "print(y)"
   ]
  },
  {
   "cell_type": "markdown",
   "id": "45c5709c",
   "metadata": {},
   "source": [
    "---\n",
    "Mencari **prior probability**"
   ]
  },
  {
   "cell_type": "code",
   "execution_count": 4,
   "id": "4de528c1",
   "metadata": {},
   "outputs": [
    {
     "name": "stdout",
     "output_type": "stream",
     "text": [
      "{0: 0.375, 1: 0.625}\n"
     ]
    }
   ],
   "source": [
    "def occurence(data):\n",
    "    labels, counts = np.unique(data, return_counts=True)\n",
    "    \n",
    "    prior_data = {}\n",
    "    for i in range(len(labels)):\n",
    "        prior_data[labels[i]] = counts[i] / len(data)\n",
    "        \n",
    "    return prior_data\n",
    "\n",
    "# Test fungsi pada data target\n",
    "prior_data = occurence(y)\n",
    "print(prior_data)"
   ]
  },
  {
   "cell_type": "markdown",
   "id": "22b56f05",
   "metadata": {},
   "source": [
    "---\n",
    "Mencari **likelihood**"
   ]
  },
  {
   "cell_type": "code",
   "execution_count": 5,
   "id": "8ccaa261",
   "metadata": {},
   "outputs": [
    {
     "name": "stdout",
     "output_type": "stream",
     "text": [
      "{0: {0: {0: 0.6666666666666666, 1: 0.3333333333333333}, 1: {0: 0.6666666666666666, 1: 0.3333333333333333}, 2: {0: 0.3333333333333333, 1: 0.3333333333333333, 2: 0.3333333333333333}, 3: {0: 0.6666666666666666, 1: 0.3333333333333333}}, 1: {0: {0: 0.4, 1: 0.6}, 1: {0: 0.2, 1: 0.8}, 2: {0: 0.2, 1: 0.4, 2: 0.4}, 3: {0: 0.2, 1: 0.8}}}\n"
     ]
    }
   ],
   "source": [
    "def likelihood(X, y):    \n",
    "    n_class = len(np.unique(y))\n",
    "    _, n_event = X.shape\n",
    "    \n",
    "    likelihood_data = {}\n",
    "    \n",
    "    for class_i in range(n_class):\n",
    "        likelihood_data[class_i] = {}\n",
    "\n",
    "        for event_j in range(n_event):\n",
    "            event_data = X[:,event_j][y==class_i]\n",
    "            proba_event = occurence(event_data)\n",
    "        \n",
    "            likelihood_data[class_i][event_j] = proba_event\n",
    "            \n",
    "    return likelihood_data\n",
    "    \n",
    "# Test fungsi\n",
    "likelihood_data = likelihood(X, y)\n",
    "print(likelihood_data)"
   ]
  },
  {
   "cell_type": "markdown",
   "id": "aad1196d",
   "metadata": {},
   "source": [
    "---\n",
    "Mencari **Evidence**"
   ]
  },
  {
   "cell_type": "code",
   "execution_count": 6,
   "id": "db36a2d5",
   "metadata": {},
   "outputs": [
    {
     "name": "stdout",
     "output_type": "stream",
     "text": [
      "{0: {0: 0.5, 1: 0.5}, 1: {0: 0.375, 1: 0.625}, 2: {0: 0.25, 1: 0.375, 2: 0.375}, 3: {0: 0.375, 1: 0.625}}\n"
     ]
    }
   ],
   "source": [
    "def evidence(X):\n",
    "    _, n_event = X.shape\n",
    "        \n",
    "    evidence_data = {}\n",
    "    for event_i in range(n_event):\n",
    "        event_data = X[:, event_i]\n",
    "        proba_event = occurence(event_data)\n",
    "        \n",
    "        evidence_data[event_i] = proba_event\n",
    "        \n",
    "    return evidence_data\n",
    "\n",
    "# Test fungsi\n",
    "evidence_data = evidence(X)\n",
    "print(evidence_data)"
   ]
  },
  {
   "cell_type": "markdown",
   "id": "1eed6967",
   "metadata": {},
   "source": [
    "---\n",
    "**Masukkan data yang ingin dicari**"
   ]
  },
  {
   "cell_type": "code",
   "execution_count": 7,
   "id": "91412102",
   "metadata": {},
   "outputs": [
    {
     "data": {
      "text/html": [
       "<div>\n",
       "<style scoped>\n",
       "    .dataframe tbody tr th:only-of-type {\n",
       "        vertical-align: middle;\n",
       "    }\n",
       "\n",
       "    .dataframe tbody tr th {\n",
       "        vertical-align: top;\n",
       "    }\n",
       "\n",
       "    .dataframe thead th {\n",
       "        text-align: right;\n",
       "    }\n",
       "</style>\n",
       "<table border=\"1\" class=\"dataframe\">\n",
       "  <thead>\n",
       "    <tr style=\"text-align: right;\">\n",
       "      <th></th>\n",
       "      <th>chills</th>\n",
       "      <th>runny nose</th>\n",
       "      <th>headache</th>\n",
       "      <th>fever</th>\n",
       "    </tr>\n",
       "  </thead>\n",
       "  <tbody>\n",
       "    <tr>\n",
       "      <th>0</th>\n",
       "      <td>Y</td>\n",
       "      <td>N</td>\n",
       "      <td>Mild</td>\n",
       "      <td>N</td>\n",
       "    </tr>\n",
       "    <tr>\n",
       "      <th>1</th>\n",
       "      <td>Y</td>\n",
       "      <td>Y</td>\n",
       "      <td>Strong</td>\n",
       "      <td>Y</td>\n",
       "    </tr>\n",
       "  </tbody>\n",
       "</table>\n",
       "</div>"
      ],
      "text/plain": [
       "  chills runny nose headache fever\n",
       "0      Y          N     Mild     N\n",
       "1      Y          Y   Strong     Y"
      ]
     },
     "execution_count": 7,
     "metadata": {},
     "output_type": "execute_result"
    }
   ],
   "source": [
    "# Buat Dataset\n",
    "data_test = {'chills': ['Y', 'Y'],\n",
    "             'runny nose': ['N', 'Y'],\n",
    "             'headache': ['Mild', 'Strong'],\n",
    "             'fever': ['N', 'Y']}\n",
    "\n",
    "# Buat dataframe\n",
    "df_test = pd.DataFrame(data_test)\n",
    "\n",
    "# Print dataframe\n",
    "df_test"
   ]
  },
  {
   "cell_type": "code",
   "execution_count": 8,
   "id": "87ce38b4",
   "metadata": {},
   "outputs": [
    {
     "name": "stdout",
     "output_type": "stream",
     "text": [
      "[[1 0 1 0]\n",
      " [1 1 2 1]]\n"
     ]
    }
   ],
   "source": [
    "# Preprocess data test\n",
    "X_test, _ = preprocess_dataframe(df_test)\n",
    "\n",
    "print(X_test)"
   ]
  },
  {
   "cell_type": "markdown",
   "id": "a60bace7",
   "metadata": {},
   "source": [
    "---\n",
    "**Lakukan prediksi**"
   ]
  },
  {
   "cell_type": "code",
   "execution_count": 9,
   "id": "e0bc5e4c",
   "metadata": {},
   "outputs": [
    {
     "name": "stdout",
     "output_type": "stream",
     "text": [
      "[0 1]\n",
      "{0: {0: 0.9174311926605505, 1: 0.14792899408284022}, 1: {0: 0.08256880733944953, 1: 0.8520710059171598}}\n"
     ]
    }
   ],
   "source": [
    "def predict(X_test, prior, likelihood, evidence):\n",
    "    n_class = len(prior)\n",
    "    n_data, n_event = X_test.shape\n",
    "    \n",
    "    # Buat posterior\n",
    "    posterior_data = {}\n",
    "    for data_i in range(n_data):\n",
    "        posterior_data[data_i] = {}\n",
    "        \n",
    "        for class_j in range(n_class):\n",
    "            posterior_data[data_i][class_j] = {}\n",
    "\n",
    "            tot_likelihood = 1\n",
    "            tot_evidence = 1\n",
    "            for event_k in range(n_event):\n",
    "                tot_likelihood *= likelihood[class_j][event_k][X_test[data_i][event_k]]\n",
    "                tot_evidence *= evidence[event_k][X_test[data_i][event_k]]\n",
    "\n",
    "            posterior = (tot_likelihood/tot_evidence) * prior[class_j]\n",
    "            posterior_data[data_i][class_j] = posterior\n",
    "        \n",
    "    # Normalize\n",
    "    for data_j in range(n_data):\n",
    "        sum_prob = 0\n",
    "        for class_i in range(n_class):\n",
    "            sum_prob += posterior_data[class_i][data_j]\n",
    "            \n",
    "        for class_i in range(n_class):\n",
    "            posterior_data[class_i][data_j] /= sum_prob\n",
    "    \n",
    "    # Hasil prediksi\n",
    "    placeholder_class = np.zeros((n_data, n_class))\n",
    "    for class_i in range(n_class):\n",
    "        for data_j in range(n_data):\n",
    "            placeholder_class[data_j][class_i] = posterior_data[class_i][data_j]\n",
    "    \n",
    "    choosen_class = np.argmax(placeholder_class, axis=1)\n",
    "\n",
    "    return choosen_class, posterior_data\n",
    "\n",
    "\n",
    "# Test fungsi\n",
    "choosen_class, posterior_data = predict(X_test, prior_data, likelihood_data, evidence_data)\n",
    "print(choosen_class)\n",
    "print(posterior_data)"
   ]
  },
  {
   "cell_type": "code",
   "execution_count": 10,
   "id": "9253a187",
   "metadata": {},
   "outputs": [
    {
     "data": {
      "text/html": [
       "<div>\n",
       "<style scoped>\n",
       "    .dataframe tbody tr th:only-of-type {\n",
       "        vertical-align: middle;\n",
       "    }\n",
       "\n",
       "    .dataframe tbody tr th {\n",
       "        vertical-align: top;\n",
       "    }\n",
       "\n",
       "    .dataframe thead th {\n",
       "        text-align: right;\n",
       "    }\n",
       "</style>\n",
       "<table border=\"1\" class=\"dataframe\">\n",
       "  <thead>\n",
       "    <tr style=\"text-align: right;\">\n",
       "      <th></th>\n",
       "      <th>chills</th>\n",
       "      <th>runny nose</th>\n",
       "      <th>headache</th>\n",
       "      <th>fever</th>\n",
       "      <th>flu?</th>\n",
       "    </tr>\n",
       "  </thead>\n",
       "  <tbody>\n",
       "    <tr>\n",
       "      <th>0</th>\n",
       "      <td>Y</td>\n",
       "      <td>N</td>\n",
       "      <td>Mild</td>\n",
       "      <td>N</td>\n",
       "      <td>N</td>\n",
       "    </tr>\n",
       "    <tr>\n",
       "      <th>1</th>\n",
       "      <td>Y</td>\n",
       "      <td>Y</td>\n",
       "      <td>Strong</td>\n",
       "      <td>Y</td>\n",
       "      <td>Y</td>\n",
       "    </tr>\n",
       "  </tbody>\n",
       "</table>\n",
       "</div>"
      ],
      "text/plain": [
       "  chills runny nose headache fever flu?\n",
       "0      Y          N     Mild     N    N\n",
       "1      Y          Y   Strong     Y    Y"
      ]
     },
     "execution_count": 10,
     "metadata": {},
     "output_type": "execute_result"
    }
   ],
   "source": [
    "def preprocess_dataframe_invert(data):\n",
    "    # Convert categorical to numerical data\n",
    "    # Chills\n",
    "    data['chills'] = data['chills'].apply(lambda x: 'N' if x==0 else 'Y')\n",
    "\n",
    "    # Runny nose\n",
    "    data['runny nose'] = data['runny nose'].apply(lambda x: 'N' if x==0 else 'Y')\n",
    "\n",
    "    # Headache\n",
    "    data['headache'] = data['headache'].apply(lambda x: 'No' if x==0 else 'Mild' if x==1 else 'Strong')\n",
    "\n",
    "    # Fever\n",
    "    data['fever'] = data['fever'].apply(lambda x: 'N' if x==0 else 'Y')\n",
    "\n",
    "    # Target\n",
    "    data['flu?'] = data['flu?'].apply(lambda x: 'N' if x==0 else 'Y')\n",
    "    \n",
    "    return data\n",
    "\n",
    "# Execute preprocessing data\n",
    "df_test['flu?'] = choosen_class\n",
    "\n",
    "df_test = preprocess_dataframe_invert(df_test)\n",
    "df_test"
   ]
  },
  {
   "cell_type": "markdown",
   "id": "623b200e",
   "metadata": {},
   "source": [
    "---\n",
    "\n",
    "## Contoh 2 - Continuous Data\n",
    "\n",
    "- Diberikan data berikut\n",
    "\n",
    "|gender (target)|height|weight|foot_size|\n",
    "|:--:|:--:|:--:|:--:|\n",
    "|male|6.00|180|12|\n",
    "|male|5.92|190|11|\n",
    "|male|5.58|170|12|\n",
    "|male|5.92|165|10|\n",
    "|female|5.00|100|6|\n",
    "|female|5.50|150|8|\n",
    "|female|5.42|130|7|\n",
    "|female|5.75|150|9|\n",
    "\n",
    "- Coba lakukan klasifikasi apakah data berikut adalah `male` atau `female`?\n",
    "\n",
    "|height|weight|foot_size|\n",
    "|:--:|:--:|:--:|\n",
    "|6.00|130|8|\n",
    "|5.60|190|10|\n"
   ]
  },
  {
   "cell_type": "markdown",
   "id": "2cab8fc7",
   "metadata": {},
   "source": [
    "---\n",
    "- Untuk menjawab, kita bisa memakai persamaan Bayes Theorem seperti biasa\n",
    "\n",
    "$$\n",
    "p(\\text{class} | \\textbf{data}) = \\cfrac{p(\\textbf{data} | \\text{class}) * p(\\text{class})}{p(\\textbf{data})}\n",
    "$$\n",
    "\n",
    "- Dalam Naive Bayes, kita tidak memperdulikan nilai asli dari posterior probability ($p(\\text{class} | \\textbf{data})$), \n",
    "- kita hanya ingin mencari posterior probability yang terbesar.\n",
    "- Mengingat marginal probability atau evidence ($p(\\textbf{data})$) adalah sama, maka kita dapat abaikan ini.\n",
    "- Sehingga kita punya\n",
    "\n",
    "$$\n",
    "p(\\text{class} | \\textbf{data}) \\sim  p(\\textbf{data} | \\text{class}) * p(\\text{class})\n",
    "$$\n",
    "\n",
    "- dengan \n",
    "  - $p(\\textbf{data} | \\text{class})$ adalah likelihood\n",
    "  - $p(\\text{class})$ adalah prior"
   ]
  },
  {
   "cell_type": "markdown",
   "id": "e9ff8398",
   "metadata": {},
   "source": [
    "- Mengingat data-nya adalah continue, kita bisa menggunakan 2 asumsi berikut:\n",
    "  1. **Naive assumption**. Kita asumsikan antar fitur tidak berkolerasi satu sama lain.\n",
    "  2. Nilai-nilai fitur untuk setiap kelasnya kita asumsikan memiliki suatu distribusi tertentu. Kita anggap distribusinya gaussian (distribusi yang paling general).\n",
    "  \n",
    "$$\n",
    "p(\\text{height} | \\text{female}) = \\cfrac{1}{\\sqrt{2 \\pi \\sigma_{\\text{height} | \\text{female}}^{2}}} \\cdot e^{- \\cfrac{\\left ( \\text{height} - \\mu_{\\text{height} | \\text{female}} \\right ) ^{2}}{\\sigma_{\\text{height} | \\text{female}}^{2}}}\n",
    "$$"
   ]
  },
  {
   "cell_type": "markdown",
   "id": "ef5212db",
   "metadata": {},
   "source": [
    "---\n",
    "## Coba dengan Python"
   ]
  },
  {
   "cell_type": "code",
   "execution_count": 11,
   "id": "1250c056",
   "metadata": {},
   "outputs": [
    {
     "name": "stdout",
     "output_type": "stream",
     "text": [
      "[[  6.   180.    12.  ]\n",
      " [  5.92 190.    11.  ]\n",
      " [  5.58 170.    12.  ]\n",
      " [  5.92 165.    10.  ]\n",
      " [  5.   100.     6.  ]\n",
      " [  5.5  150.     8.  ]\n",
      " [  5.42 130.     7.  ]\n",
      " [  5.75 150.     9.  ]]\n",
      "[1 1 1 1 0 0 0 0]\n"
     ]
    }
   ],
   "source": [
    "# Buat Dataset\n",
    "data = {'height': [6.00, 5.92, 5.58, 5.92, 5.00, 5.50, 5.42, 5.75],\n",
    "        'weight': [180., 190., 170., 165., 100., 150., 130., 150.],\n",
    "        'foot size': [12., 11., 12., 10., 6., 8., 7., 9.]}\n",
    "\n",
    "target = ['male', 'male', 'male', 'male',\n",
    "          'female', 'female', 'female', 'female']\n",
    "\n",
    "# Buat dataframe\n",
    "df_baru = pd.DataFrame(data)\n",
    "df_baru['gender'] = target\n",
    "\n",
    "# Print dataframe\n",
    "y = df_baru['gender'].apply(lambda x: 0 if x=='female' else 1).copy().to_numpy()\n",
    "X = df_baru.drop(['gender'], axis=1).copy().to_numpy()\n",
    "\n",
    "print(X)\n",
    "print(y)"
   ]
  },
  {
   "cell_type": "markdown",
   "id": "84e4bf8d",
   "metadata": {},
   "source": [
    "---\n",
    "Mencari **prior probability**"
   ]
  },
  {
   "cell_type": "code",
   "execution_count": 12,
   "id": "3fd4c7aa",
   "metadata": {},
   "outputs": [
    {
     "name": "stdout",
     "output_type": "stream",
     "text": [
      "{0: 0.5, 1: 0.5}\n"
     ]
    }
   ],
   "source": [
    "def prior_gaussian_NB(y):\n",
    "    classes, counts = np.unique(y, return_counts=True)\n",
    "    n_class = len(classes)\n",
    "    n_data = len(y)\n",
    "    \n",
    "    prior_data = {}\n",
    "    for class_i in range(n_class):\n",
    "        prior_proba = counts[class_i] / n_data\n",
    "        prior_data[class_i] = prior_proba\n",
    "    \n",
    "    return prior_data\n",
    "        \n",
    "\n",
    "# Test fungsi pada data target\n",
    "prior_data = prior_gaussian_NB(y)\n",
    "print(prior_data)"
   ]
  },
  {
   "cell_type": "markdown",
   "id": "fcda197b",
   "metadata": {},
   "source": [
    "---\n",
    "Mencari **mean & variance dari data**"
   ]
  },
  {
   "cell_type": "code",
   "execution_count": 13,
   "id": "7cc1c60d",
   "metadata": {},
   "outputs": [
    {
     "name": "stdout",
     "output_type": "stream",
     "text": [
      "{0: {'mean': array([  5.4175, 132.5   ,   7.5   ]), 'var': array([7.291875e-02, 4.187500e+02, 1.250000e+00])}, 1: {'mean': array([  5.855, 176.25 ,  11.25 ]), 'var': array([2.62750e-02, 9.21875e+01, 6.87500e-01])}}\n"
     ]
    }
   ],
   "source": [
    "def extract_data(X, y):\n",
    "    classes = np.unique(y)\n",
    "    n_class = len(classes)\n",
    "    n_data, n_feature = X.shape\n",
    "    \n",
    "    data_properties = {}\n",
    "    for class_i in range(n_class):\n",
    "        # cari data\n",
    "        data_in_class_i = X[y==class_i, :]\n",
    "        \n",
    "        # cari mean\n",
    "        mean_data = np.mean(data_in_class_i, axis=0)\n",
    "        \n",
    "        # cari variance\n",
    "        var_data = np.var(data_in_class_i, axis=0)\n",
    "        \n",
    "        # masukkan data\n",
    "        data_properties[class_i] = {}\n",
    "        data_properties[class_i]['mean'] = mean_data\n",
    "        data_properties[class_i]['var'] = var_data\n",
    "        \n",
    "    return data_properties\n",
    "\n",
    "\n",
    "# Test fungsi pada data\n",
    "data_properties = extract_data(X, y)\n",
    "print(data_properties)"
   ]
  },
  {
   "cell_type": "markdown",
   "id": "b5325ced",
   "metadata": {},
   "source": [
    "---\n",
    "Mencari **likelihood data**"
   ]
  },
  {
   "cell_type": "code",
   "execution_count": 14,
   "id": "c9567814",
   "metadata": {},
   "outputs": [],
   "source": [
    "def likelihood_gaussian(data, mean, var):\n",
    "    prob = (1/(np.sqrt(2 * np.pi * var))) * np.exp((-1) * ((data-mean)**2) / (2*var))\n",
    "    \n",
    "    return prob"
   ]
  },
  {
   "cell_type": "markdown",
   "id": "d2a22521",
   "metadata": {},
   "source": [
    "---\n",
    "Mencari **prediksi**"
   ]
  },
  {
   "cell_type": "code",
   "execution_count": 15,
   "id": "73d5476b",
   "metadata": {},
   "outputs": [
    {
     "name": "stdout",
     "output_type": "stream",
     "text": [
      "[[  6.  130.    8. ]\n",
      " [  5.6 190.   10. ]]\n"
     ]
    }
   ],
   "source": [
    "# Buat Dataset\n",
    "data_test = {'height': [6.00, 5.60],\n",
    "             'weight': [130., 190.],\n",
    "             'foot size': [8., 10.]}\n",
    "\n",
    "# Buat dataframe\n",
    "df_test = pd.DataFrame(data_test)\n",
    "\n",
    "# Print dataframe\n",
    "X_test = df_test.to_numpy()\n",
    "print(X_test)"
   ]
  },
  {
   "cell_type": "code",
   "execution_count": 16,
   "id": "48e15590",
   "metadata": {},
   "outputs": [
    {
     "name": "stdout",
     "output_type": "stream",
     "text": [
      "[0 1]\n",
      "{0: {0: 0.9999998455713321, 1: 0.007821961019943816}, 1: {0: 1.5442866782106927e-07, 1: 0.9921780389800562}}\n"
     ]
    }
   ],
   "source": [
    "def predict(X_test, prior, data_properties):\n",
    "    n_class = len(prior_data.keys())\n",
    "    n_data, n_feature = X_test.shape\n",
    "    \n",
    "    posterior_data = {}\n",
    "    for class_i in range(n_class):\n",
    "        posterior_data[class_i] = {}\n",
    "        \n",
    "        for data_j in range(n_data):\n",
    "            # Cari data\n",
    "            current_data = X_test[data_j]\n",
    "\n",
    "            # Hitung likelihood probability\n",
    "            tot_likelihood = 1\n",
    "            for feature_k in range(n_feature):\n",
    "                data_feature_k = current_data[feature_k]\n",
    "                mean_feature_k = data_properties[class_i]['mean'][feature_k]\n",
    "                var_feature_k = data_properties[class_i]['var'][feature_k]\n",
    "                \n",
    "                likelihood_prob = likelihood_gaussian(data=data_feature_k,\n",
    "                                                      mean=mean_feature_k,\n",
    "                                                      var=var_feature_k)\n",
    "                \n",
    "                tot_likelihood *= likelihood_prob\n",
    "                \n",
    "            posterior_prop = tot_likelihood * prior[class_i]\n",
    "            posterior_data[class_i][data_j] = posterior_prop\n",
    "    \n",
    "    # Normalize\n",
    "    for data_j in range(n_data):\n",
    "        sum_prob = 0\n",
    "        for class_i in range(n_class):\n",
    "            sum_prob += posterior_data[class_i][data_j]\n",
    "            \n",
    "        for class_i in range(n_class):\n",
    "            posterior_data[class_i][data_j] /= sum_prob\n",
    "    \n",
    "    # Hasil prediksi\n",
    "    placeholder_class = np.zeros((n_data, n_class))\n",
    "    for class_i in range(n_class):\n",
    "        for data_j in range(n_data):\n",
    "            placeholder_class[data_j][class_i] = posterior_data[class_i][data_j]\n",
    "    \n",
    "    choosen_class = np.argmax(placeholder_class, axis=1)\n",
    "\n",
    "    return choosen_class, posterior_data\n",
    "        \n",
    "\n",
    "# Test fungsi\n",
    "choosen_class, posterior_data = predict(X_test, prior_data, data_properties)\n",
    "print(choosen_class)\n",
    "print(posterior_data)"
   ]
  },
  {
   "cell_type": "code",
   "execution_count": 17,
   "id": "ee2e000c",
   "metadata": {},
   "outputs": [
    {
     "data": {
      "text/html": [
       "<div>\n",
       "<style scoped>\n",
       "    .dataframe tbody tr th:only-of-type {\n",
       "        vertical-align: middle;\n",
       "    }\n",
       "\n",
       "    .dataframe tbody tr th {\n",
       "        vertical-align: top;\n",
       "    }\n",
       "\n",
       "    .dataframe thead th {\n",
       "        text-align: right;\n",
       "    }\n",
       "</style>\n",
       "<table border=\"1\" class=\"dataframe\">\n",
       "  <thead>\n",
       "    <tr style=\"text-align: right;\">\n",
       "      <th></th>\n",
       "      <th>height</th>\n",
       "      <th>weight</th>\n",
       "      <th>foot size</th>\n",
       "      <th>gender?</th>\n",
       "    </tr>\n",
       "  </thead>\n",
       "  <tbody>\n",
       "    <tr>\n",
       "      <th>0</th>\n",
       "      <td>6.0</td>\n",
       "      <td>130.0</td>\n",
       "      <td>8.0</td>\n",
       "      <td>female</td>\n",
       "    </tr>\n",
       "    <tr>\n",
       "      <th>1</th>\n",
       "      <td>5.6</td>\n",
       "      <td>190.0</td>\n",
       "      <td>10.0</td>\n",
       "      <td>male</td>\n",
       "    </tr>\n",
       "  </tbody>\n",
       "</table>\n",
       "</div>"
      ],
      "text/plain": [
       "   height  weight  foot size gender?\n",
       "0     6.0   130.0        8.0  female\n",
       "1     5.6   190.0       10.0    male"
      ]
     },
     "execution_count": 17,
     "metadata": {},
     "output_type": "execute_result"
    }
   ],
   "source": [
    "def preprocess_dataframe_invert(data):\n",
    "    # Convert categorical to numerical data\n",
    "    # Target\n",
    "    data['gender?'] = data['gender?'].apply(lambda x: 'female' if x==0 else 'male')\n",
    "    \n",
    "    return data\n",
    "\n",
    "# Execute preprocessing data\n",
    "df_test['gender?'] = choosen_class\n",
    "\n",
    "df_test = preprocess_dataframe_invert(df_test)\n",
    "df_test"
   ]
  }
 ],
 "metadata": {
  "kernelspec": {
   "display_name": "Python 3 (ipykernel)",
   "language": "python",
   "name": "python3"
  },
  "language_info": {
   "codemirror_mode": {
    "name": "ipython",
    "version": 3
   },
   "file_extension": ".py",
   "mimetype": "text/x-python",
   "name": "python",
   "nbconvert_exporter": "python",
   "pygments_lexer": "ipython3",
   "version": "3.9.7"
  }
 },
 "nbformat": 4,
 "nbformat_minor": 5
}
