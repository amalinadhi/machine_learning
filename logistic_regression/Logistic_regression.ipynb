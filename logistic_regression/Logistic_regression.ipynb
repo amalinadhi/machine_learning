{
 "cells": [
  {
   "cell_type": "code",
   "execution_count": 1,
   "id": "5be63b27",
   "metadata": {},
   "outputs": [],
   "source": [
    "import numpy as np\n",
    "import pandas as pd\n",
    "import matplotlib.pyplot as plt\n",
    "\n",
    "from sklearn import datasets"
   ]
  },
  {
   "cell_type": "markdown",
   "id": "42139151",
   "metadata": {},
   "source": [
    "Oleh: Cahya Amalinadhi Putra"
   ]
  },
  {
   "cell_type": "markdown",
   "id": "5dad87bd",
   "metadata": {},
   "source": [
    "# Logistic Regression"
   ]
  },
  {
   "cell_type": "markdown",
   "id": "7468b7a0",
   "metadata": {},
   "source": [
    "- Kita akan pakai dataset IRIS\n",
    "- Lebih rinci pada dataset\n",
    "  - target 0 adalah spesies Setosa\n",
    "  - target 1 adalah spesies Virginica\n",
    "  - target 2 adalah spesies Versicolor"
   ]
  },
  {
   "cell_type": "code",
   "execution_count": 2,
   "id": "5b836b01",
   "metadata": {},
   "outputs": [
    {
     "data": {
      "text/html": [
       "<div>\n",
       "<style scoped>\n",
       "    .dataframe tbody tr th:only-of-type {\n",
       "        vertical-align: middle;\n",
       "    }\n",
       "\n",
       "    .dataframe tbody tr th {\n",
       "        vertical-align: top;\n",
       "    }\n",
       "\n",
       "    .dataframe thead th {\n",
       "        text-align: right;\n",
       "    }\n",
       "</style>\n",
       "<table border=\"1\" class=\"dataframe\">\n",
       "  <thead>\n",
       "    <tr style=\"text-align: right;\">\n",
       "      <th></th>\n",
       "      <th>sepal length (cm)</th>\n",
       "      <th>sepal width (cm)</th>\n",
       "      <th>petal length (cm)</th>\n",
       "      <th>petal width (cm)</th>\n",
       "      <th>target</th>\n",
       "    </tr>\n",
       "  </thead>\n",
       "  <tbody>\n",
       "    <tr>\n",
       "      <th>0</th>\n",
       "      <td>5.1</td>\n",
       "      <td>3.5</td>\n",
       "      <td>1.4</td>\n",
       "      <td>0.2</td>\n",
       "      <td>0</td>\n",
       "    </tr>\n",
       "    <tr>\n",
       "      <th>1</th>\n",
       "      <td>4.9</td>\n",
       "      <td>3.0</td>\n",
       "      <td>1.4</td>\n",
       "      <td>0.2</td>\n",
       "      <td>0</td>\n",
       "    </tr>\n",
       "    <tr>\n",
       "      <th>2</th>\n",
       "      <td>4.7</td>\n",
       "      <td>3.2</td>\n",
       "      <td>1.3</td>\n",
       "      <td>0.2</td>\n",
       "      <td>0</td>\n",
       "    </tr>\n",
       "    <tr>\n",
       "      <th>3</th>\n",
       "      <td>4.6</td>\n",
       "      <td>3.1</td>\n",
       "      <td>1.5</td>\n",
       "      <td>0.2</td>\n",
       "      <td>0</td>\n",
       "    </tr>\n",
       "    <tr>\n",
       "      <th>4</th>\n",
       "      <td>5.0</td>\n",
       "      <td>3.6</td>\n",
       "      <td>1.4</td>\n",
       "      <td>0.2</td>\n",
       "      <td>0</td>\n",
       "    </tr>\n",
       "    <tr>\n",
       "      <th>...</th>\n",
       "      <td>...</td>\n",
       "      <td>...</td>\n",
       "      <td>...</td>\n",
       "      <td>...</td>\n",
       "      <td>...</td>\n",
       "    </tr>\n",
       "    <tr>\n",
       "      <th>145</th>\n",
       "      <td>6.7</td>\n",
       "      <td>3.0</td>\n",
       "      <td>5.2</td>\n",
       "      <td>2.3</td>\n",
       "      <td>2</td>\n",
       "    </tr>\n",
       "    <tr>\n",
       "      <th>146</th>\n",
       "      <td>6.3</td>\n",
       "      <td>2.5</td>\n",
       "      <td>5.0</td>\n",
       "      <td>1.9</td>\n",
       "      <td>2</td>\n",
       "    </tr>\n",
       "    <tr>\n",
       "      <th>147</th>\n",
       "      <td>6.5</td>\n",
       "      <td>3.0</td>\n",
       "      <td>5.2</td>\n",
       "      <td>2.0</td>\n",
       "      <td>2</td>\n",
       "    </tr>\n",
       "    <tr>\n",
       "      <th>148</th>\n",
       "      <td>6.2</td>\n",
       "      <td>3.4</td>\n",
       "      <td>5.4</td>\n",
       "      <td>2.3</td>\n",
       "      <td>2</td>\n",
       "    </tr>\n",
       "    <tr>\n",
       "      <th>149</th>\n",
       "      <td>5.9</td>\n",
       "      <td>3.0</td>\n",
       "      <td>5.1</td>\n",
       "      <td>1.8</td>\n",
       "      <td>2</td>\n",
       "    </tr>\n",
       "  </tbody>\n",
       "</table>\n",
       "<p>150 rows × 5 columns</p>\n",
       "</div>"
      ],
      "text/plain": [
       "     sepal length (cm)  sepal width (cm)  petal length (cm)  petal width (cm)  \\\n",
       "0                  5.1               3.5                1.4               0.2   \n",
       "1                  4.9               3.0                1.4               0.2   \n",
       "2                  4.7               3.2                1.3               0.2   \n",
       "3                  4.6               3.1                1.5               0.2   \n",
       "4                  5.0               3.6                1.4               0.2   \n",
       "..                 ...               ...                ...               ...   \n",
       "145                6.7               3.0                5.2               2.3   \n",
       "146                6.3               2.5                5.0               1.9   \n",
       "147                6.5               3.0                5.2               2.0   \n",
       "148                6.2               3.4                5.4               2.3   \n",
       "149                5.9               3.0                5.1               1.8   \n",
       "\n",
       "     target  \n",
       "0         0  \n",
       "1         0  \n",
       "2         0  \n",
       "3         0  \n",
       "4         0  \n",
       "..      ...  \n",
       "145       2  \n",
       "146       2  \n",
       "147       2  \n",
       "148       2  \n",
       "149       2  \n",
       "\n",
       "[150 rows x 5 columns]"
      ]
     },
     "execution_count": 2,
     "metadata": {},
     "output_type": "execute_result"
    }
   ],
   "source": [
    "# Load Data Iris\n",
    "iris = datasets.load_iris()\n",
    "\n",
    "# Convert ke pandas dataframe agar mudah di edit\n",
    "iris_df = pd.DataFrame(data=iris.data,\n",
    "                       columns=iris.feature_names)\n",
    "iris_df['target'] = iris.target\n",
    "iris_df"
   ]
  },
  {
   "cell_type": "markdown",
   "id": "c2446b9f",
   "metadata": {},
   "source": [
    "- Kita akan coba melakukan binary classification\n",
    "- Kita akan prediksi bunga **Virginica** & **bukan Virginica**\n",
    "- Untuk **mempermudah visualisasi**, kita hanya memakai **2 fitur**:\n",
    "  - **sepal length (cm)**\n",
    "  - **petal length (cm)**"
   ]
  },
  {
   "cell_type": "code",
   "execution_count": 3,
   "id": "94ae69f2",
   "metadata": {},
   "outputs": [
    {
     "name": "stdout",
     "output_type": "stream",
     "text": [
      "     sepal length (cm)  petal length (cm)\n",
      "0                  5.1                1.4\n",
      "1                  4.9                1.4\n",
      "2                  4.7                1.3\n",
      "3                  4.6                1.5\n",
      "4                  5.0                1.4\n",
      "..                 ...                ...\n",
      "145                6.7                5.2\n",
      "146                6.3                5.0\n",
      "147                6.5                5.2\n",
      "148                6.2                5.4\n",
      "149                5.9                5.1\n",
      "\n",
      "[150 rows x 2 columns]\n"
     ]
    }
   ],
   "source": [
    "# Buat prediktor (X)\n",
    "X = iris_df[['sepal length (cm)', 'petal length (cm)']]\n",
    "\n",
    "print(X)"
   ]
  },
  {
   "cell_type": "code",
   "execution_count": 4,
   "id": "6df73d93",
   "metadata": {},
   "outputs": [
    {
     "name": "stdout",
     "output_type": "stream",
     "text": [
      "0      0\n",
      "1      0\n",
      "2      0\n",
      "3      0\n",
      "4      0\n",
      "      ..\n",
      "145    1\n",
      "146    1\n",
      "147    1\n",
      "148    1\n",
      "149    1\n",
      "Name: target, Length: 150, dtype: int32\n"
     ]
    }
   ],
   "source": [
    "# Buat target (y)\n",
    "# nilai 1 saat spesies-nya virginica\n",
    "# nilai 0 saat spesies-nya bukan virginica\n",
    "y = (iris_df['target']==2).astype(int)\n",
    "\n",
    "print(y)"
   ]
  },
  {
   "cell_type": "code",
   "execution_count": 6,
   "id": "5137a027",
   "metadata": {},
   "outputs": [
    {
     "data": {
      "image/png": "[encoded data removed]",
      "text/plain": [
       "<Figure size 432x288 with 1 Axes>"
      ]
     },
     "metadata": {
      "needs_background": "light"
     },
     "output_type": "display_data"
    }
   ],
   "source": [
    "# Visualisasikan data\n",
    "plt.scatter(X['sepal length (cm)'][y==1], X['petal length (cm)'][y==1],\n",
    "            c='red', label='virginica')\n",
    "plt.scatter(X['sepal length (cm)'][y!=1], X['petal length (cm)'][y!=1],\n",
    "            c='blue', label='bukan virginica')\n",
    "plt.legend()\n",
    "plt.xlabel('sepal length (cm)')\n",
    "plt.ylabel('petal length (cm)')\n",
    "plt.plot();"
   ]
  },
  {
   "attachments": {
    "image.png": {
     "image/png": "[encoded data removed]"
    }
   },
   "cell_type": "markdown",
   "id": "ab7e9f65",
   "metadata": {},
   "source": [
    "- Kita akan buat garis yang memisahkan antara titik merah & biru\n",
    "- Harapannya seperti garis hitam di bawah ini\n",
    "![image.png](attachment:image.png)\n",
    "\n",
    "- Garis hitam tersebut kita sebut dengan decision boundary"
   ]
  },
  {
   "cell_type": "markdown",
   "id": "fd15cdb8",
   "metadata": {},
   "source": [
    "---\n",
    "- Bagaimana cara membuat garis nya?\n",
    "- Misal \n",
    "  - `sepal length (cm)` adalah fitur pertama kita, dan kita tulis sebagai $x_1$\n",
    "  - `petal length (cm)` adalah fitur kedua kita, dan kita tulis sebagai $x_2$\n",
    "- Maka, persamaan garis tersebut adalah\n",
    "$$\n",
    "0 = \\theta_{0} + \\theta_{1} x_{1} + \\theta_{2} x_{2}\n",
    "$$\n",
    "\n",
    "- dengan $\\theta_{0}$, $\\theta_{1}$, dan $\\theta_{2}$ adalah parameter model yang memengaruhi intercept dan kemiringan garis (decision boundary kita)"
   ]
  },
  {
   "cell_type": "markdown",
   "id": "88ae0197",
   "metadata": {},
   "source": [
    "---\n",
    "**Kita menyelesaikan dengan Logistic Regression**\n",
    "\n",
    "- Untuk objective function, kita akan memaksimalkan negative log-likelihood\n",
    "\n",
    "- Berikut adalah fungsi negative log-likelihood\n",
    "\n",
    "$$\n",
    "\\ell (\\theta) = - \\sum_{i=1}^{N} \\left ( y_{i} \\log(p(x_{i},\\theta)) + (1-y_{i}) \\log (1-p(x_{i},\\theta)) \\right )\n",
    "$$\n",
    "\n",
    "- Dengan $p(x_{i},\\theta)$ adalah probability dari data $x_{i}$ masuk ke dalam kelas virginica\n",
    "\n",
    "- $p(x_{i}, \\theta)$ sendiri dimodelkan sebagai fungsi Sigmoid ($\\sigma(x_{i})$) yang memiliki rentang $\\{ 0 \\cdots 1 \\}$ \n",
    "\n",
    "$$\n",
    "p(x_{i}, \\theta) = \\sigma(x_{i}, \\theta) = \\cfrac{1}{1 + \\exp(-x_{i}\\theta)}\n",
    "$$\n",
    "\n",
    "- atau\n",
    "\n",
    "$$\n",
    "\\sigma(z_{i}) = \\cfrac{1}{1 + \\exp(-z_{i})}\n",
    "$$\n",
    "\n",
    "- dengan\n",
    "\n",
    "$$\n",
    "z_{i} = x_{i} \\cdot \\theta\n",
    "$$"
   ]
  },
  {
   "cell_type": "code",
   "execution_count": 7,
   "id": "5df83adb",
   "metadata": {},
   "outputs": [],
   "source": [
    "# Membuat fungsi sigmoid\n",
    "def sigmoid(z):\n",
    "    \"\"\"\n",
    "    Fungsi sigmoid, outputnya adalah probability terjadinya kelas 1\n",
    "    diberikan x & theta   \n",
    "    \"\"\"\n",
    "    prob = 1. / (1. + np.exp(-z))\n",
    "    \n",
    "    return prob"
   ]
  },
  {
   "cell_type": "code",
   "execution_count": 9,
   "id": "663fd27e",
   "metadata": {},
   "outputs": [
    {
     "data": {
      "image/png": "[encoded data removed]",
      "text/plain": [
       "<Figure size 432x288 with 1 Axes>"
      ]
     },
     "metadata": {
      "needs_background": "light"
     },
     "output_type": "display_data"
    }
   ],
   "source": [
    "# Test fungsi sigmoid\n",
    "x_ = np.linspace(-10, 10, 100)\n",
    "y_ = sigmoid(x_)\n",
    "\n",
    "# Plot\n",
    "plt.plot(x_, y_)\n",
    "plt.xlabel(\"z\")\n",
    "plt.ylabel(\"$\\sigma(z)$\")\n",
    "plt.title(\"Sigmoid function\")\n",
    "\n",
    "plt.plot();"
   ]
  },
  {
   "cell_type": "code",
   "execution_count": 36,
   "id": "4f53592a",
   "metadata": {},
   "outputs": [],
   "source": [
    "# Membuat fungsi log-likelihood\n",
    "def neg_log_likelihood(X, y, theta):\n",
    "    \"\"\"\n",
    "    Fungsi untuk mencari nilai log likelihood diberikan theta\n",
    "    \"\"\"    \n",
    "    # cari logit\n",
    "    z = np.column_stack((np.ones(len(y)), X)) @ theta\n",
    "    \n",
    "    # hitung probability\n",
    "    prob = sigmoid(z)\n",
    "    \n",
    "    # hitung log likelihood\n",
    "    l = y*np.log(prob) + (1-y)*np.log(1-prob)\n",
    "    \n",
    "    return -np.sum(l)"
   ]
  },
  {
   "cell_type": "code",
   "execution_count": 37,
   "id": "d8acf73c",
   "metadata": {},
   "outputs": [
    {
     "data": {
      "text/plain": [
       "933.2326595014376"
      ]
     },
     "execution_count": 37,
     "metadata": {},
     "output_type": "execute_result"
    }
   ],
   "source": [
    "# Test fungsi log-likelihood\n",
    "theta_ = np.array([1.00, 1.00, 1.00])\n",
    "l_ = neg_log_likelihood(X, y, theta_)\n",
    "l_"
   ]
  },
  {
   "cell_type": "markdown",
   "id": "ef1731ea",
   "metadata": {},
   "source": [
    "---\n",
    "**Untuk menentukan solusi terbaik**\n",
    "\n",
    "- Kita tidak bisa mendapatkan closed solution (seperti OLS)\n",
    "- Jadi kita bisa menggunakan informasi gradientnya dan menyelesaikan dengan gradient descent\n",
    "\n",
    "$$\n",
    "\\nabla_{\\theta} \\ell (\\theta) = \\left [ \\cfrac{\\partial \\ell (\\theta)}{\\partial \\theta_{0}} \\ , \\cfrac{\\partial \\ell (\\theta)}{\\partial \\theta_{1}} \\ , \\cfrac{\\partial \\ell (\\theta)}{\\partial \\theta_{2}} \\right ]\n",
    "$$\n",
    "\n",
    "- Kita dapat mencari turunannya menggunakan chain rules\n",
    "\n",
    "$$\n",
    "\\cfrac{\\partial \\ell (\\theta)}{\\partial \\theta_{i}} = \\cfrac{\\partial \\ell}{\\partial \\sigma} \\cdot \\cfrac{\\partial \\sigma}{\\partial z} \\cdot \\cfrac{\\partial z}{\\partial \\theta_{i}}\n",
    "$$\n",
    "\n",
    "- dengan\n",
    "\n",
    "$$\n",
    "\\cfrac{\\partial \\ell}{\\partial \\sigma} = - \\left ( y_{i} \\cdot \\cfrac{1}{\\sigma} + (1 - y_{i}) \\cdot (-1) \\cdot \\cfrac{1}{1 - \\sigma} \\right )\n",
    "$$\n",
    "\n",
    "$$\n",
    "\\cfrac{\\partial \\sigma}{\\partial z} = \\sigma \\cdot (1 - \\sigma)\n",
    "$$\n",
    "\n",
    "$$\n",
    "\\cfrac{\\partial z}{\\partial \\theta} = \\left [ 1 \\ , x_{1} \\ , x_{2} \\right ]\n",
    "$$\n",
    "\n",
    "- maka\n",
    "\n",
    "$$\n",
    "\\nabla_{\\theta} \\ell = - \\sum_{i=1}^{N} \\left ( y_{i} - \\sigma(z_{i}) \\right ) \\left [ 1 \\ , x_{1}^{(i)} \\ , x_{2}^{(i)} \\right ]\n",
    "$$"
   ]
  },
  {
   "cell_type": "code",
   "execution_count": 67,
   "id": "f92b9178",
   "metadata": {},
   "outputs": [
    {
     "data": {
      "text/html": [
       "<div>\n",
       "<style scoped>\n",
       "    .dataframe tbody tr th:only-of-type {\n",
       "        vertical-align: middle;\n",
       "    }\n",
       "\n",
       "    .dataframe tbody tr th {\n",
       "        vertical-align: top;\n",
       "    }\n",
       "\n",
       "    .dataframe thead th {\n",
       "        text-align: right;\n",
       "    }\n",
       "</style>\n",
       "<table border=\"1\" class=\"dataframe\">\n",
       "  <thead>\n",
       "    <tr style=\"text-align: right;\">\n",
       "      <th></th>\n",
       "      <th>sepal length (cm)</th>\n",
       "      <th>petal length (cm)</th>\n",
       "    </tr>\n",
       "  </thead>\n",
       "  <tbody>\n",
       "    <tr>\n",
       "      <th>0</th>\n",
       "      <td>5.1</td>\n",
       "      <td>1.4</td>\n",
       "    </tr>\n",
       "    <tr>\n",
       "      <th>1</th>\n",
       "      <td>4.9</td>\n",
       "      <td>1.4</td>\n",
       "    </tr>\n",
       "    <tr>\n",
       "      <th>2</th>\n",
       "      <td>4.7</td>\n",
       "      <td>1.3</td>\n",
       "    </tr>\n",
       "    <tr>\n",
       "      <th>3</th>\n",
       "      <td>4.6</td>\n",
       "      <td>1.5</td>\n",
       "    </tr>\n",
       "    <tr>\n",
       "      <th>4</th>\n",
       "      <td>5.0</td>\n",
       "      <td>1.4</td>\n",
       "    </tr>\n",
       "    <tr>\n",
       "      <th>...</th>\n",
       "      <td>...</td>\n",
       "      <td>...</td>\n",
       "    </tr>\n",
       "    <tr>\n",
       "      <th>145</th>\n",
       "      <td>6.7</td>\n",
       "      <td>5.2</td>\n",
       "    </tr>\n",
       "    <tr>\n",
       "      <th>146</th>\n",
       "      <td>6.3</td>\n",
       "      <td>5.0</td>\n",
       "    </tr>\n",
       "    <tr>\n",
       "      <th>147</th>\n",
       "      <td>6.5</td>\n",
       "      <td>5.2</td>\n",
       "    </tr>\n",
       "    <tr>\n",
       "      <th>148</th>\n",
       "      <td>6.2</td>\n",
       "      <td>5.4</td>\n",
       "    </tr>\n",
       "    <tr>\n",
       "      <th>149</th>\n",
       "      <td>5.9</td>\n",
       "      <td>5.1</td>\n",
       "    </tr>\n",
       "  </tbody>\n",
       "</table>\n",
       "<p>150 rows × 2 columns</p>\n",
       "</div>"
      ],
      "text/plain": [
       "     sepal length (cm)  petal length (cm)\n",
       "0                  5.1                1.4\n",
       "1                  4.9                1.4\n",
       "2                  4.7                1.3\n",
       "3                  4.6                1.5\n",
       "4                  5.0                1.4\n",
       "..                 ...                ...\n",
       "145                6.7                5.2\n",
       "146                6.3                5.0\n",
       "147                6.5                5.2\n",
       "148                6.2                5.4\n",
       "149                5.9                5.1\n",
       "\n",
       "[150 rows x 2 columns]"
      ]
     },
     "execution_count": 67,
     "metadata": {},
     "output_type": "execute_result"
    }
   ],
   "source": [
    "X"
   ]
  },
  {
   "cell_type": "code",
   "execution_count": 80,
   "id": "f48c7a4e",
   "metadata": {},
   "outputs": [
    {
     "data": {
      "text/plain": [
       "69140.9"
      ]
     },
     "execution_count": 80,
     "metadata": {},
     "output_type": "execute_result"
    }
   ],
   "source": [
    "np.sum(np.arange(X.shape[0]) * X['sepal length (cm)'])"
   ]
  },
  {
   "cell_type": "code",
   "execution_count": 78,
   "id": "a74e6b91",
   "metadata": {},
   "outputs": [
    {
     "data": {
      "text/plain": [
       "sepal length (cm)    69140.9\n",
       "petal length (cm)    52081.9\n",
       "dtype: float64"
      ]
     },
     "execution_count": 78,
     "metadata": {},
     "output_type": "execute_result"
    }
   ],
   "source": [
    "np.arange(X.shape[0]) @ X"
   ]
  },
  {
   "cell_type": "code",
   "execution_count": 120,
   "id": "3c2ca854",
   "metadata": {},
   "outputs": [],
   "source": [
    "# Fungsi gradient dari log-likelihood terhadap theta\n",
    "def neg_log_likelihood_grad(X, y, theta):\n",
    "    \"\"\"\n",
    "    Fungsi untuk mencari gradient dari log likelihood\n",
    "    \"\"\"\n",
    "    # cari logit\n",
    "    z = np.column_stack((np.ones(len(y)), X)) @ theta\n",
    "    \n",
    "    # hitung probability\n",
    "    prob = sigmoid(z)\n",
    "    \n",
    "    # hitung derivative log likelihood\n",
    "    d_l = (y - prob) @ np.column_stack((np.ones(len(y)), X))\n",
    "    \n",
    "    return -d_l"
   ]
  },
  {
   "cell_type": "code",
   "execution_count": 121,
   "id": "43a0613f",
   "metadata": {},
   "outputs": [
    {
     "data": {
      "text/plain": [
       "array([ 99.9673526 , 546.9403838 , 286.05075446])"
      ]
     },
     "execution_count": 121,
     "metadata": {},
     "output_type": "execute_result"
    }
   ],
   "source": [
    "# Test fungsi log-likelihood\n",
    "theta_ = np.array([1.00, 1.00, 1.00])\n",
    "d_l_ = neg_log_likelihood_grad(X, y, theta_)\n",
    "d_l_"
   ]
  },
  {
   "cell_type": "markdown",
   "id": "f8c55fb5",
   "metadata": {},
   "source": [
    "- Selanjutnya buat algoritma gradient descent\n",
    "- Dengan fungsi update sebagai berikut\n",
    "\n",
    "$$\n",
    "\\theta^{(+)} = \\theta^{(-)} - \\alpha \\cfrac{\\partial \\ell}{\\partial \\theta}\n",
    "$$"
   ]
  },
  {
   "cell_type": "code",
   "execution_count": 124,
   "id": "5fb03356",
   "metadata": {},
   "outputs": [],
   "source": [
    "# Fungsi gradient descent\n",
    "def gradient_descent(X, y, theta_init, \n",
    "                     learning_rate=1e-4, \n",
    "                     max_iter=1000,\n",
    "                     epsilon=1e-6):\n",
    "    \"\"\"\n",
    "    Fungsi gradient descent untuk log likelihood\n",
    "    \"\"\"\n",
    "    # Initialization\n",
    "    N = len(y)\n",
    "    stop_flag = False\n",
    "    theta_history = []\n",
    "    l_history = []\n",
    "    d_l_history = []\n",
    "\n",
    "    theta_update = theta_init.copy()\n",
    "    \n",
    "    # Start iteration\n",
    "    for i in range(max_iter):\n",
    "        # Hitung negative log likelihood\n",
    "        l_i = neg_log_likelihood(X, y, theta_update)\n",
    "        \n",
    "        # Hitung derivative of negative log likelihood\n",
    "        d_l_i = neg_log_likelihood_grad(X, y, theta_update)\n",
    "        \n",
    "        # Hitung update dari theta\n",
    "        theta_update -= learning_rate * d_l_i\n",
    "        \n",
    "        # Simpan\n",
    "        l_history.append(l_i)\n",
    "        d_l_history.append(d_l_i)\n",
    "        theta_history.append(theta_update)\n",
    "        \n",
    "        if np.abs(d_l_i).all() < epsilon:\n",
    "            break\n",
    "            \n",
    "    return theta_history, l_history, d_l_history"
   ]
  },
  {
   "cell_type": "code",
   "execution_count": 127,
   "id": "496a5bbe",
   "metadata": {},
   "outputs": [
    {
     "data": {
      "image/png": "[encoded data removed]",
      "text/plain": [
       "<Figure size 432x288 with 1 Axes>"
      ]
     },
     "metadata": {
      "needs_background": "light"
     },
     "output_type": "display_data"
    },
    {
     "name": "stdout",
     "output_type": "stream",
     "text": [
      "theta best = [ 0.28558974 -1.38271696  1.72677575]\n",
      "negative log likelihood best = 45.410471548354636\n"
     ]
    }
   ],
   "source": [
    "# Find optimum solution\n",
    "theta_init = np.array([1.0, 1.0, 1.0])\n",
    "theta_history, l_history, d_l_history = gradient_descent(X, y, theta_init)\n",
    "\n",
    "# Plot solution\n",
    "plt.plot(np.arange(len(l_history)), l_history)\n",
    "plt.yscale('log')\n",
    "plt.xlabel('iteration - i')\n",
    "plt.ylabel('negative log likelihood')\n",
    "plt.xticks([i for i in range(len(l_history)) if i%100==0])\n",
    "plt.show();\n",
    "\n",
    "# Print final solution\n",
    "theta_best = theta_history[-1]\n",
    "l_best = l_history[-1]\n",
    "print(f'theta best = {theta_best}')\n",
    "print(f'negative log likelihood best = {l_best}')"
   ]
  },
  {
   "cell_type": "code",
   "execution_count": 143,
   "id": "d46099e9",
   "metadata": {},
   "outputs": [],
   "source": [
    "# Buat prediksi\n",
    "def predict(X, theta,\n",
    "            threshold=0.5):\n",
    "    \"\"\"\n",
    "    Prediksi\n",
    "    \"\"\"\n",
    "    # cari logit\n",
    "    z = np.column_stack((np.ones(len(y)), X)) @ theta\n",
    "    \n",
    "    # hitung y probability\n",
    "    y_proba = sigmoid(z)\n",
    "    \n",
    "    # hitung y prediksi\n",
    "    # Kalo probability nya >= 0.5, maka masuk kelas 1, selain itu masuk ke kelas 0\n",
    "    y_hat = (y_proba >= threshold).astype(int)\n",
    "    \n",
    "    return y_hat, y_proba"
   ]
  },
  {
   "cell_type": "code",
   "execution_count": 144,
   "id": "2af818da",
   "metadata": {},
   "outputs": [
    {
     "data": {
      "text/plain": [
       "array([0, 0, 0, 0, 0, 0, 0, 0, 0, 0, 0, 0, 0, 0, 0, 0, 0, 0, 0, 0, 0, 0,\n",
       "       0, 0, 0, 0, 0, 0, 0, 0, 0, 0, 0, 0, 0, 0, 0, 0, 0, 0, 0, 0, 0, 0,\n",
       "       0, 0, 0, 0, 0, 0, 0, 0, 0, 0, 0, 1, 0, 0, 0, 0, 0, 0, 0, 0, 0, 0,\n",
       "       1, 0, 0, 0, 1, 0, 1, 0, 0, 0, 0, 0, 0, 0, 0, 0, 0, 1, 1, 0, 0, 0,\n",
       "       0, 0, 1, 0, 0, 0, 0, 0, 0, 0, 0, 0, 1, 1, 1, 1, 1, 1, 1, 1, 1, 1,\n",
       "       1, 1, 1, 1, 1, 1, 1, 1, 1, 1, 1, 1, 1, 1, 1, 1, 1, 1, 1, 1, 1, 1,\n",
       "       1, 1, 1, 1, 1, 1, 1, 1, 1, 0, 1, 1, 1, 1, 1, 1, 1, 1])"
      ]
     },
     "execution_count": 144,
     "metadata": {},
     "output_type": "execute_result"
    }
   ],
   "source": [
    "# Test prediksi\n",
    "y_hat, y_proba = predict(X, theta_best)\n",
    "y_hat"
   ]
  },
  {
   "cell_type": "code",
   "execution_count": 145,
   "id": "97fc08d5",
   "metadata": {},
   "outputs": [
    {
     "name": "stdout",
     "output_type": "stream",
     "text": [
      "[[93  7]\n",
      " [ 1 49]]\n",
      "error rate = 5.33 %\n"
     ]
    }
   ],
   "source": [
    "# Cek error rate dari confusion matrix\n",
    "from sklearn.metrics import confusion_matrix\n",
    "\n",
    "N = len(y)\n",
    "conf_mat = confusion_matrix(y, y_hat)\n",
    "print(conf_mat)\n",
    "\n",
    "error_rate = 1 - (np.diag(conf_mat).sum()/N)\n",
    "print(f'error rate = {100*error_rate:.2f} %')"
   ]
  },
  {
   "cell_type": "markdown",
   "id": "ecdac14c",
   "metadata": {},
   "source": [
    "- Hasilnya lumayan, error ratenya cukup kecil hanya 5.33%\n",
    "- Hasil ini lebih baik dibanding OLS classification sebelumnya"
   ]
  },
  {
   "cell_type": "markdown",
   "id": "f4558e79",
   "metadata": {},
   "source": [
    "---\n",
    "**Interpretasi Fisik**"
   ]
  },
  {
   "cell_type": "markdown",
   "id": "9ac3a0ce",
   "metadata": {},
   "source": [
    "- Kita akan buat 4 grafik\n",
    "  1. grafik asli (data) - kiri atas\n",
    "  2. grafik hasil klasifikasi dengan Logistic Regression - kanan atas\n",
    "  3. grafik missklasifikasi - kiri bawah\n",
    "  4. grafik decision boundary - kanan bawah"
   ]
  },
  {
   "cell_type": "markdown",
   "id": "d9f8a6e9",
   "metadata": {},
   "source": [
    "---\n",
    "- untuk membangun persamaan garis decision boundary, kita asumsikan $x_{2}$ sama dengan $y$ dan $x_{1}$ sama dengan $x$\n",
    "- kemudian tinggal cari persamaan $y = mx + c$\n",
    "- maka akan kita dapatkan\n",
    "\n",
    "$$\n",
    "\\begin{align*}\n",
    "0 &= \\theta_{0} + \\theta_{1} x_{1} + \\theta_{2} x_{2} \\\\ \n",
    "\\theta_{2} x_{2} &= - \\theta_{1} x_{1} - \\theta_{0} \\\\ \n",
    "x_{2} &= - \\cfrac{\\theta_{1}}{\\theta_{2}} x_{1} - \\cfrac{\\theta_{0}}{\\theta_{2}}\n",
    "\\end{align*}\n",
    "$$\n",
    "\n",
    "- dengan $m = - \\cfrac{\\theta_{1}}{\\theta_{2}}$ dan $c = - \\cfrac{\\theta_{0}}{\\theta_{2}}$"
   ]
  },
  {
   "cell_type": "code",
   "execution_count": 147,
   "id": "db1818ff",
   "metadata": {},
   "outputs": [
    {
     "data": {
      "image/png": "[encoded data removed]",
      "text/plain": [
       "<Figure size 1224x1080 with 4 Axes>"
      ]
     },
     "metadata": {
      "needs_background": "light"
     },
     "output_type": "display_data"
    }
   ],
   "source": [
    "# Perbandingan plot\n",
    "fig, ax = plt.subplots(nrows=2, ncols=2, figsize=(17,15))\n",
    "\n",
    "# Visualisasi data awal\n",
    "ax[0,0].scatter(X['sepal length (cm)'][y==1], X['petal length (cm)'][y==1],\n",
    "                c='red', label='virginica [DATA ASLI]')\n",
    "ax[0,0].scatter(X['sepal length (cm)'][y!=1], X['petal length (cm)'][y!=1],\n",
    "                c='blue', label='bukan virginica [DATA ASLI]')\n",
    "ax[0,0].legend()\n",
    "ax[0,0].set_xlabel('sepal length (cm)')\n",
    "ax[0,0].set_ylabel('petal length (cm)')\n",
    "ax[0,0].set_title('Sebaran Data Aktual')\n",
    "\n",
    "# Visualisasi data setelah menggunakan Logsitic Reg.\n",
    "ax[0,1].scatter(X['sepal length (cm)'][y_hat==1], X['petal length (cm)'][y_hat==1],\n",
    "                c='red', label='virginica [Logistic Reg.]')\n",
    "ax[0,1].scatter(X['sepal length (cm)'][y_hat!=1], X['petal length (cm)'][y_hat!=1],\n",
    "                c='blue', label='bukan virginica [Logsitic Reg.]')\n",
    "ax[0,1].legend()\n",
    "ax[0,1].set_xlabel('sepal length (cm)')\n",
    "ax[0,1].set_ylabel('petal length (cm)')\n",
    "ax[0,1].set_title('Sebaran Data Setelah diklasifikasi dengan Logsitic Reg.')\n",
    "\n",
    "# Visualisasi data yang misklasifikasi\n",
    "m = -theta_best[1]/theta_best[2]\n",
    "c = -theta_best[0]/theta_best[2]\n",
    "x_1_support = np.linspace(np.min(X['sepal length (cm)']), np.max(X['sepal length (cm)']), 100)\n",
    "x_2_support = m * x_1_support + c\n",
    "ax[1,0].plot(x_1_support, x_2_support, 'k', label=f'decision boundary, \\n $0 = {theta_best[0]:.2f} + {theta_best[1]:.2f}x_{1} + {theta_best[2]:.2f}x_{2}$')\n",
    "\n",
    "ax[1,0].scatter(X['sepal length (cm)'][y==y_hat], X['petal length (cm)'][y==y_hat],\n",
    "                c='grey', label='correct classification')\n",
    "ax[1,0].scatter(X['sepal length (cm)'][y!=y_hat], X['petal length (cm)'][y!=y_hat],\n",
    "                c='red', label='missclassification')\n",
    "ax[1,0].legend()\n",
    "ax[1,0].set_xlabel('sepal length (cm) - $x_{1}$')\n",
    "ax[1,0].set_ylabel('petal length (cm) - $x_{2}$')\n",
    "ax[1,0].set_title('Daerah Misklasifikasi')\n",
    "\n",
    "# Visualisasi decision boundary\n",
    "# Garis berbentuk\n",
    "# x_2 = m x_1 + c\n",
    "m = -theta_best[1]/theta_best[2]\n",
    "c = -theta_best[0]/theta_best[2]\n",
    "x_1_support = np.linspace(np.min(X['sepal length (cm)']), np.max(X['sepal length (cm)']), 100)\n",
    "x_2_support = m * x_1_support + c\n",
    "ax[1,1].plot(x_1_support, x_2_support, 'k', label=f'decision boundary, \\n $0 = {theta_best[0]:.2f} + {theta_best[1]:.2f}x_{1} + {theta_best[2]:.2f}x_{2}$')\n",
    "ax[1,1].scatter(X['sepal length (cm)'][y_hat==1], X['petal length (cm)'][y_hat==1],\n",
    "              c='red', label='virginica [Logsitic Reg.]')\n",
    "ax[1,1].scatter(X['sepal length (cm)'][y_hat!=1], X['petal length (cm)'][y_hat!=1],\n",
    "              c='blue', label='bukan virginica [Logsitic Reg.]')\n",
    "ax[1,1].legend()\n",
    "ax[1,1].set_xlabel('sepal length (cm) - $x_{1}$')\n",
    "ax[1,1].set_ylabel('petal length (cm) - $x_{2}$')\n",
    "ax[1,1].set_title('Decision Boundary pada klasifikasi')\n",
    "\n",
    "plt.plot();"
   ]
  },
  {
   "cell_type": "markdown",
   "id": "81d5312d",
   "metadata": {},
   "source": [
    "Dari 4 grafik di atas didapatkan:\n",
    "- Adanya misklasifikasi\n",
    "- Ini wajar, karena: \n",
    "  - data aslinya tidak sepenuhnya terpisah\n",
    "  - garis pemisah kita masih berupa garis lurus\n",
    "- Daerah misklasifikasi tepat di daerah yang tidak sepenuhnya terpisah\n",
    "- Semua yang ada di bawah garis decision boundary, menjadi class `bukan virginica`\n",
    "- Sedangkan semua yang ada di atas garis decision boundary, menjadi class `virginica`"
   ]
  },
  {
   "cell_type": "code",
   "execution_count": null,
   "id": "8f3c9a71",
   "metadata": {},
   "outputs": [],
   "source": []
  }
 ],
 "metadata": {
  "kernelspec": {
   "display_name": "Python 3 (ipykernel)",
   "language": "python",
   "name": "python3"
  },
  "language_info": {
   "codemirror_mode": {
    "name": "ipython",
    "version": 3
   },
   "file_extension": ".py",
   "mimetype": "text/x-python",
   "name": "python",
   "nbconvert_exporter": "python",
   "pygments_lexer": "ipython3",
   "version": "3.9.7"
  }
 },
 "nbformat": 4,
 "nbformat_minor": 5
}
