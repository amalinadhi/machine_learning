{
 "cells": [
  {
   "cell_type": "code",
   "execution_count": 1,
   "metadata": {},
   "outputs": [],
   "source": [
    "import numpy as np\n",
    "import pandas as pd\n",
    "\n",
    "import matplotlib.pyplot as plt\n",
    "import seaborn as sns"
   ]
  },
  {
   "attachments": {},
   "cell_type": "markdown",
   "metadata": {},
   "source": [
    "# Create Logistic Regression Class\n",
    "\n",
    "Adopting sklearn style"
   ]
  },
  {
   "cell_type": "code",
   "execution_count": 2,
   "metadata": {},
   "outputs": [],
   "source": [
    "class LogisticRegression():\n",
    "    \"\"\"\n",
    "    Logistic Regression with Gradient Descent optimization\n",
    "\n",
    "    Parameters\n",
    "    ----------\n",
    "    learning_rate: float, default = 0.1\n",
    "        Learning rate of gradient descent\n",
    "\n",
    "    tol : float, default = 1e-4\n",
    "        Tolerance for stopping criteria\n",
    "        The iterations will stop when \n",
    "        max(change in weights) / max(weights) < tol.\n",
    "\n",
    "    max_iter : int, default = 100\n",
    "        Maximum number of iterations taken for the solvers to converge\n",
    "\n",
    "    Attributes\n",
    "    ----------\n",
    "    coef_ : ndarray of shape (n_features,)\n",
    "        Coefficient of the features in the decision function\n",
    "\n",
    "    intercept_ : ndarray of shape (1,)\n",
    "    \"\"\"\n",
    "    def __init__(\n",
    "        self,\n",
    "        learning_rate = 0.1,\n",
    "        max_iter = 100,\n",
    "        tol = 1e-4,\n",
    "    ):\n",
    "        self.learning_rate = learning_rate\n",
    "        self.max_iter = max_iter\n",
    "        self.tol = tol\n",
    "\n",
    "    def _initialize_parameters(self, X):\n",
    "        \"\"\"\n",
    "        Initialize parameters: .coef_ and .intercept_\n",
    "        \n",
    "        .coef_ is between [-1/sqrt(N), 1/sqrt(N)]\n",
    "        .intercept_ is zero\n",
    "        \"\"\"\n",
    "        n_features = np.shape(X)[1]\n",
    "        limit = 1 / np.sqrt(n_features)\n",
    "\n",
    "        self.coef_ = np.random.uniform(-limit, limit, (n_features))\n",
    "        self.intercept_ = np.zeros(1)\n",
    "\n",
    "    def fit(self, X, y):\n",
    "        \"\"\"\n",
    "        Fit the model according to the given training data\n",
    "\n",
    "        Parameters\n",
    "        ----------\n",
    "        X : {array-like, sparse matrix} of shape (n_samples, n_features)\n",
    "            Training vectori, where `n_samples` is the number of samples and\n",
    "            `n_features` is the number of features\n",
    "\n",
    "        y : array-like of shape (n_samples,)\n",
    "            Target vector relative to X\n",
    "\n",
    "        Returns\n",
    "        --------\n",
    "        self\n",
    "            Fitted estimator\n",
    "        \"\"\"\n",
    "        # Update the data\n",
    "        X = np.array(X)\n",
    "        y = np.array(y)\n",
    "\n",
    "        # Initialize parameters\n",
    "        self._initialize_parameters(X)\n",
    "\n",
    "        # Tune parameters \n",
    "        for i in range(self.max_iter):\n",
    "            # Make a new prediction\n",
    "            y_pred = self.predict_proba(X = X)\n",
    "\n",
    "            # Calculate gradient\n",
    "            grad_coef_ = -(y - y_pred).dot(X)\n",
    "            grad_intercept_ = -(y - y_pred).dot(np.ones(len(X)))\n",
    "\n",
    "            # Update parameters\n",
    "            self.coef_ -= self.learning_rate * grad_coef_\n",
    "            self.intercept_ -= self.learning_rate * grad_intercept_\n",
    "\n",
    "            # Break the iteration\n",
    "            param_changes_ = np.abs(np.hstack((grad_coef_, grad_intercept_)))\n",
    "            param_ = np.abs(np.hstack((self.coef_, self.intercept_)))\n",
    "            if np.max(param_changes_)/np.max(param_) < self.tol:\n",
    "                break\n",
    "            \n",
    "    def predict_proba(self, X):\n",
    "        \"\"\"\n",
    "        Probability estimates.\n",
    "\n",
    "        Parameters\n",
    "        ----------\n",
    "        X : array-like of shape (n_samples, n_features)\n",
    "            Vector to be scored, where `n_samples` is the number of samples and\n",
    "            `n_features` is the number of features\n",
    "\n",
    "        Returns\n",
    "        -------\n",
    "        proba : array-like of shape (n_samples,)\n",
    "            Returns the probability of the sample for each class in the model,\n",
    "        \"\"\"\n",
    "        # Calculate the log odds\n",
    "        logits = np.dot(X, self.coef_) + self.intercept_\n",
    "\n",
    "        # Calculate the probability using sigmoid function\n",
    "        # sigmoid(x) = 1 / (1 + e^(-x))\n",
    "        proba = 1. / (1 + np.exp(-logits))\n",
    "\n",
    "        return proba\n",
    "\n",
    "    def predict(self, X):\n",
    "        \"\"\"\n",
    "        Predict class\n",
    "\n",
    "        Parameters\n",
    "        ----------\n",
    "        X : array-like of shape (n_samples, n_features)\n",
    "            Vector to be scored, where `n_samples` is the number of samples and\n",
    "            `n_features` is the number of features\n",
    "\n",
    "        Returns\n",
    "        -------\n",
    "        T : array-like of shape (n_samples,)\n",
    "            Returns the probability of the sample for each class in the model,\n",
    "        \"\"\"\n",
    "        return (self.predict_proba(X)>0.5).astype(\"int\")\n"
   ]
  },
  {
   "attachments": {},
   "cell_type": "markdown",
   "metadata": {},
   "source": [
    "# Data"
   ]
  },
  {
   "cell_type": "code",
   "execution_count": 3,
   "metadata": {},
   "outputs": [
    {
     "data": {
      "text/html": [
       "<div>\n",
       "<style scoped>\n",
       "    .dataframe tbody tr th:only-of-type {\n",
       "        vertical-align: middle;\n",
       "    }\n",
       "\n",
       "    .dataframe tbody tr th {\n",
       "        vertical-align: top;\n",
       "    }\n",
       "\n",
       "    .dataframe thead th {\n",
       "        text-align: right;\n",
       "    }\n",
       "</style>\n",
       "<table border=\"1\" class=\"dataframe\">\n",
       "  <thead>\n",
       "    <tr style=\"text-align: right;\">\n",
       "      <th></th>\n",
       "      <th>x_1</th>\n",
       "      <th>x_2</th>\n",
       "      <th>y</th>\n",
       "    </tr>\n",
       "  </thead>\n",
       "  <tbody>\n",
       "    <tr>\n",
       "      <th>0</th>\n",
       "      <td>0</td>\n",
       "      <td>0</td>\n",
       "      <td>0</td>\n",
       "    </tr>\n",
       "    <tr>\n",
       "      <th>1</th>\n",
       "      <td>1</td>\n",
       "      <td>0</td>\n",
       "      <td>1</td>\n",
       "    </tr>\n",
       "    <tr>\n",
       "      <th>2</th>\n",
       "      <td>1</td>\n",
       "      <td>1</td>\n",
       "      <td>1</td>\n",
       "    </tr>\n",
       "    <tr>\n",
       "      <th>3</th>\n",
       "      <td>0</td>\n",
       "      <td>1</td>\n",
       "      <td>1</td>\n",
       "    </tr>\n",
       "  </tbody>\n",
       "</table>\n",
       "</div>"
      ],
      "text/plain": [
       "   x_1  x_2  y\n",
       "0    0    0  0\n",
       "1    1    0  1\n",
       "2    1    1  1\n",
       "3    0    1  1"
      ]
     },
     "execution_count": 3,
     "metadata": {},
     "output_type": "execute_result"
    }
   ],
   "source": [
    "x_1 = [0, 1, 1, 0]\n",
    "x_2 = [0, 0, 1, 1]\n",
    "y = [0, 1, 1, 1]\n",
    "\n",
    "data = pd.DataFrame({\"x_1\": x_1,\n",
    "                     \"x_2\": x_2,\n",
    "                     \"y\": y})\n",
    "\n",
    "data"
   ]
  },
  {
   "cell_type": "code",
   "execution_count": 4,
   "metadata": {},
   "outputs": [
    {
     "data": {
      "image/png": "[encoded data removed]",
      "text/plain": [
       "<Figure size 360x360 with 1 Axes>"
      ]
     },
     "metadata": {
      "needs_background": "light"
     },
     "output_type": "display_data"
    }
   ],
   "source": [
    "fig, ax = plt.subplots(nrows=1, ncols=1, figsize=(5, 5))\n",
    "\n",
    "# Plot data\n",
    "sns.scatterplot(data = data,\n",
    "                x = \"x_1\",\n",
    "                y = \"x_2\",\n",
    "                hue = \"y\",\n",
    "                style = \"y\",\n",
    "                s = 200,\n",
    "                ax = ax)\n",
    "\n",
    "plt.xlim(-1, 2)\n",
    "plt.ylim(-1, 2)\n",
    "plt.legend()\n",
    "plt.grid()\n",
    "plt.show()"
   ]
  },
  {
   "attachments": {},
   "cell_type": "markdown",
   "metadata": {},
   "source": [
    "# Modeling"
   ]
  },
  {
   "cell_type": "code",
   "execution_count": 5,
   "metadata": {},
   "outputs": [],
   "source": [
    "X = data[[\"x_1\", \"x_2\"]]\n",
    "y = data[\"y\"]"
   ]
  },
  {
   "cell_type": "code",
   "execution_count": 6,
   "metadata": {},
   "outputs": [],
   "source": [
    "# Create an object\n",
    "logreg = LogisticRegression()"
   ]
  },
  {
   "cell_type": "code",
   "execution_count": 7,
   "metadata": {},
   "outputs": [],
   "source": [
    "# Fit the model\n",
    "logreg.fit(X, y)"
   ]
  },
  {
   "cell_type": "code",
   "execution_count": 8,
   "metadata": {},
   "outputs": [
    {
     "name": "stdout",
     "output_type": "stream",
     "text": [
      "coef        : [2.69057205 2.44015141]\n",
      "intercept   : [-0.62061107]\n"
     ]
    }
   ],
   "source": [
    "# Extract parameter\n",
    "w = logreg.coef_\n",
    "b = logreg.intercept_\n",
    "\n",
    "print(f\"coef        : {w}\")\n",
    "print(f\"intercept   : {b}\")"
   ]
  },
  {
   "cell_type": "code",
   "execution_count": 9,
   "metadata": {},
   "outputs": [
    {
     "name": "stdout",
     "output_type": "stream",
     "text": [
      "Predict proba : \n",
      "[0.34964249 0.88794908 0.9891224  0.86051096]\n",
      "Prediction    : \n",
      "[0 1 1 1]\n"
     ]
    }
   ],
   "source": [
    "# Predict \n",
    "y_pred_proba = logreg.predict_proba(X)\n",
    "y_pred = logreg.predict(X)\n",
    "\n",
    "print(f\"Predict proba : \\n{y_pred_proba}\")\n",
    "print(f\"Prediction    : \\n{y_pred}\")"
   ]
  },
  {
   "cell_type": "code",
   "execution_count": 10,
   "metadata": {},
   "outputs": [],
   "source": [
    "data[\"y_pred\"] = y_pred"
   ]
  },
  {
   "attachments": {},
   "cell_type": "markdown",
   "metadata": {},
   "source": [
    "# Decision Boundary"
   ]
  },
  {
   "cell_type": "code",
   "execution_count": 11,
   "metadata": {},
   "outputs": [
    {
     "name": "stdout",
     "output_type": "stream",
     "text": [
      "slope       : -1.1026\n",
      "intercept   : 0.2543\n"
     ]
    }
   ],
   "source": [
    "# Obtain DS slope & intercept\n",
    "m = -w[0]/w[1]\n",
    "c = -b[0]/w[1]\n",
    "\n",
    "print(f\"slope       : {m:.4f}\")\n",
    "print(f\"intercept   : {c:.4f}\")"
   ]
  },
  {
   "cell_type": "code",
   "execution_count": 12,
   "metadata": {},
   "outputs": [
    {
     "data": {
      "image/png": "[encoded data removed]",
      "text/plain": [
       "<Figure size 360x360 with 1 Axes>"
      ]
     },
     "metadata": {
      "needs_background": "light"
     },
     "output_type": "display_data"
    }
   ],
   "source": [
    "fig, ax = plt.subplots(nrows=1, ncols=1, figsize=(5, 5))\n",
    "\n",
    "# Plot data\n",
    "sns.scatterplot(data = data,\n",
    "                x = \"x_1\",\n",
    "                y = \"x_2\",\n",
    "                hue = \"y_pred\",\n",
    "                style = \"y_pred\",\n",
    "                s = 200,\n",
    "                ax = ax)\n",
    "\n",
    "# Plot decision boundary\n",
    "x_ = np.linspace(-1, 2, 101)\n",
    "y_ = m*x_ + c\n",
    "ax.plot(x_, y_, \"--r\", alpha=0.5, label=\"decision boundary\")\n",
    "\n",
    "plt.xlim(-1, 2)\n",
    "plt.ylim(-1, 2)\n",
    "plt.legend()\n",
    "plt.grid()\n",
    "plt.show()"
   ]
  }
 ],
 "metadata": {
  "kernelspec": {
   "display_name": "base",
   "language": "python",
   "name": "python3"
  },
  "language_info": {
   "codemirror_mode": {
    "name": "ipython",
    "version": 3
   },
   "file_extension": ".py",
   "mimetype": "text/x-python",
   "name": "python",
   "nbconvert_exporter": "python",
   "pygments_lexer": "ipython3",
   "version": "3.9.12"
  },
  "orig_nbformat": 4
 },
 "nbformat": 4,
 "nbformat_minor": 2
}
