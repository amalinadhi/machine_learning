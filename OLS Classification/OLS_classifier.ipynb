{
 "cells": [
  {
   "cell_type": "code",
   "execution_count": 1,
   "id": "6666f258",
   "metadata": {},
   "outputs": [],
   "source": [
    "import numpy as np\n",
    "import pandas as pd\n",
    "import matplotlib.pyplot as plt\n",
    "\n",
    "from sklearn import datasets"
   ]
  },
  {
   "cell_type": "markdown",
   "id": "5cb361f6",
   "metadata": {},
   "source": [
    "Oleh: Cahya Amalinadhi Putra - **Sekolah Data - Pacmann AI**"
   ]
  },
  {
   "cell_type": "markdown",
   "id": "8f98080f",
   "metadata": {},
   "source": [
    "# OLS Classification"
   ]
  },
  {
   "cell_type": "markdown",
   "id": "5ef5bd59",
   "metadata": {},
   "source": [
    "- Kita akan pakai dataset IRIS\n",
    "- Lebih rinci pada dataset\n",
    "  - target 0 adalah spesies Setosa\n",
    "  - target 1 adalah spesies Virginica\n",
    "  - target 2 adalah spesies Versicolor"
   ]
  },
  {
   "cell_type": "code",
   "execution_count": 2,
   "id": "9d0d900a",
   "metadata": {},
   "outputs": [
    {
     "data": {
      "text/html": [
       "<div>\n",
       "<style scoped>\n",
       "    .dataframe tbody tr th:only-of-type {\n",
       "        vertical-align: middle;\n",
       "    }\n",
       "\n",
       "    .dataframe tbody tr th {\n",
       "        vertical-align: top;\n",
       "    }\n",
       "\n",
       "    .dataframe thead th {\n",
       "        text-align: right;\n",
       "    }\n",
       "</style>\n",
       "<table border=\"1\" class=\"dataframe\">\n",
       "  <thead>\n",
       "    <tr style=\"text-align: right;\">\n",
       "      <th></th>\n",
       "      <th>sepal length (cm)</th>\n",
       "      <th>sepal width (cm)</th>\n",
       "      <th>petal length (cm)</th>\n",
       "      <th>petal width (cm)</th>\n",
       "      <th>target</th>\n",
       "    </tr>\n",
       "  </thead>\n",
       "  <tbody>\n",
       "    <tr>\n",
       "      <th>0</th>\n",
       "      <td>5.1</td>\n",
       "      <td>3.5</td>\n",
       "      <td>1.4</td>\n",
       "      <td>0.2</td>\n",
       "      <td>0</td>\n",
       "    </tr>\n",
       "    <tr>\n",
       "      <th>1</th>\n",
       "      <td>4.9</td>\n",
       "      <td>3.0</td>\n",
       "      <td>1.4</td>\n",
       "      <td>0.2</td>\n",
       "      <td>0</td>\n",
       "    </tr>\n",
       "    <tr>\n",
       "      <th>2</th>\n",
       "      <td>4.7</td>\n",
       "      <td>3.2</td>\n",
       "      <td>1.3</td>\n",
       "      <td>0.2</td>\n",
       "      <td>0</td>\n",
       "    </tr>\n",
       "    <tr>\n",
       "      <th>3</th>\n",
       "      <td>4.6</td>\n",
       "      <td>3.1</td>\n",
       "      <td>1.5</td>\n",
       "      <td>0.2</td>\n",
       "      <td>0</td>\n",
       "    </tr>\n",
       "    <tr>\n",
       "      <th>4</th>\n",
       "      <td>5.0</td>\n",
       "      <td>3.6</td>\n",
       "      <td>1.4</td>\n",
       "      <td>0.2</td>\n",
       "      <td>0</td>\n",
       "    </tr>\n",
       "    <tr>\n",
       "      <th>...</th>\n",
       "      <td>...</td>\n",
       "      <td>...</td>\n",
       "      <td>...</td>\n",
       "      <td>...</td>\n",
       "      <td>...</td>\n",
       "    </tr>\n",
       "    <tr>\n",
       "      <th>145</th>\n",
       "      <td>6.7</td>\n",
       "      <td>3.0</td>\n",
       "      <td>5.2</td>\n",
       "      <td>2.3</td>\n",
       "      <td>2</td>\n",
       "    </tr>\n",
       "    <tr>\n",
       "      <th>146</th>\n",
       "      <td>6.3</td>\n",
       "      <td>2.5</td>\n",
       "      <td>5.0</td>\n",
       "      <td>1.9</td>\n",
       "      <td>2</td>\n",
       "    </tr>\n",
       "    <tr>\n",
       "      <th>147</th>\n",
       "      <td>6.5</td>\n",
       "      <td>3.0</td>\n",
       "      <td>5.2</td>\n",
       "      <td>2.0</td>\n",
       "      <td>2</td>\n",
       "    </tr>\n",
       "    <tr>\n",
       "      <th>148</th>\n",
       "      <td>6.2</td>\n",
       "      <td>3.4</td>\n",
       "      <td>5.4</td>\n",
       "      <td>2.3</td>\n",
       "      <td>2</td>\n",
       "    </tr>\n",
       "    <tr>\n",
       "      <th>149</th>\n",
       "      <td>5.9</td>\n",
       "      <td>3.0</td>\n",
       "      <td>5.1</td>\n",
       "      <td>1.8</td>\n",
       "      <td>2</td>\n",
       "    </tr>\n",
       "  </tbody>\n",
       "</table>\n",
       "<p>150 rows × 5 columns</p>\n",
       "</div>"
      ],
      "text/plain": [
       "     sepal length (cm)  sepal width (cm)  petal length (cm)  petal width (cm)  \\\n",
       "0                  5.1               3.5                1.4               0.2   \n",
       "1                  4.9               3.0                1.4               0.2   \n",
       "2                  4.7               3.2                1.3               0.2   \n",
       "3                  4.6               3.1                1.5               0.2   \n",
       "4                  5.0               3.6                1.4               0.2   \n",
       "..                 ...               ...                ...               ...   \n",
       "145                6.7               3.0                5.2               2.3   \n",
       "146                6.3               2.5                5.0               1.9   \n",
       "147                6.5               3.0                5.2               2.0   \n",
       "148                6.2               3.4                5.4               2.3   \n",
       "149                5.9               3.0                5.1               1.8   \n",
       "\n",
       "     target  \n",
       "0         0  \n",
       "1         0  \n",
       "2         0  \n",
       "3         0  \n",
       "4         0  \n",
       "..      ...  \n",
       "145       2  \n",
       "146       2  \n",
       "147       2  \n",
       "148       2  \n",
       "149       2  \n",
       "\n",
       "[150 rows x 5 columns]"
      ]
     },
     "execution_count": 2,
     "metadata": {},
     "output_type": "execute_result"
    }
   ],
   "source": [
    "# Load Data Iris\n",
    "iris = datasets.load_iris()\n",
    "\n",
    "# Convert ke pandas dataframe agar mudah di edit\n",
    "iris_df = pd.DataFrame(data=iris.data,\n",
    "                       columns=iris.feature_names)\n",
    "iris_df['target'] = iris.target\n",
    "iris_df"
   ]
  },
  {
   "cell_type": "markdown",
   "id": "897303c2",
   "metadata": {},
   "source": [
    "- Kita akan coba melakukan binary classification\n",
    "- Kita akan prediksi bunga **Virginica** & **bukan Virginica**\n",
    "- Untuk **mempermudah visualisasi**, kita hanya memakai **2 fitur**:\n",
    "  - **sepal length (cm)**\n",
    "  - **petal length (cm)**"
   ]
  },
  {
   "cell_type": "code",
   "execution_count": 3,
   "id": "210f1e1c",
   "metadata": {},
   "outputs": [
    {
     "name": "stdout",
     "output_type": "stream",
     "text": [
      "     sepal length (cm)  petal length (cm)\n",
      "0                  5.1                1.4\n",
      "1                  4.9                1.4\n",
      "2                  4.7                1.3\n",
      "3                  4.6                1.5\n",
      "4                  5.0                1.4\n",
      "..                 ...                ...\n",
      "145                6.7                5.2\n",
      "146                6.3                5.0\n",
      "147                6.5                5.2\n",
      "148                6.2                5.4\n",
      "149                5.9                5.1\n",
      "\n",
      "[150 rows x 2 columns]\n"
     ]
    }
   ],
   "source": [
    "# Buat prediktor (X)\n",
    "X = iris_df[['sepal length (cm)', 'petal length (cm)']]\n",
    "\n",
    "print(X)"
   ]
  },
  {
   "cell_type": "code",
   "execution_count": 4,
   "id": "ad0622d1",
   "metadata": {},
   "outputs": [
    {
     "name": "stdout",
     "output_type": "stream",
     "text": [
      "0     -1\n",
      "1     -1\n",
      "2     -1\n",
      "3     -1\n",
      "4     -1\n",
      "      ..\n",
      "145    1\n",
      "146    1\n",
      "147    1\n",
      "148    1\n",
      "149    1\n",
      "Name: target, Length: 150, dtype: int32\n"
     ]
    }
   ],
   "source": [
    "# Buat target (y)\n",
    "# nilai 1 saat spesies-nya virginica\n",
    "# nilai -1 saat spesies-nya bukan virginica\n",
    "y = 2*(iris_df['target']==2).astype(int) - 1\n",
    "\n",
    "print(y)"
   ]
  },
  {
   "cell_type": "code",
   "execution_count": 5,
   "id": "48561888",
   "metadata": {},
   "outputs": [
    {
     "data": {
      "text/plain": [
       "[]"
      ]
     },
     "execution_count": 5,
     "metadata": {},
     "output_type": "execute_result"
    },
    {
     "data": {
      "image/png": "[encoded data removed]",
      "text/plain": [
       "<Figure size 432x288 with 1 Axes>"
      ]
     },
     "metadata": {
      "needs_background": "light"
     },
     "output_type": "display_data"
    }
   ],
   "source": [
    "# Visualisasikan data\n",
    "plt.scatter(X['sepal length (cm)'][y==1], X['petal length (cm)'][y==1],\n",
    "            c='red', label='virginica')\n",
    "plt.scatter(X['sepal length (cm)'][y!=1], X['petal length (cm)'][y!=1],\n",
    "            c='blue', label='bukan virginica')\n",
    "plt.legend()\n",
    "plt.xlabel('sepal length (cm)')\n",
    "plt.ylabel('petal length (cm)')\n",
    "plt.plot()"
   ]
  },
  {
   "attachments": {
    "image.png": {
     "image/png": "[encoded data removed]"
    }
   },
   "cell_type": "markdown",
   "id": "92ea4f31",
   "metadata": {},
   "source": [
    "- Kita akan buat garis yang memisahkan antara titik merah & biru\n",
    "- Harapannya seperti garis hitam di bawah ini\n",
    "![image.png](attachment:image.png)\n",
    "\n",
    "- Garis hitam tersebut kita sebut dengan decision boundary"
   ]
  },
  {
   "cell_type": "markdown",
   "id": "459cb4b4",
   "metadata": {},
   "source": [
    "---\n",
    "- Bagaimana cara membuat garis nya?\n",
    "- Misal \n",
    "  - `sepal length (cm)` adalah fitur pertama kita, dan kita tulis sebagai $x_1$\n",
    "  - `petal length (cm)` adalah fitur kedua kita, dan kita tulis sebagai $x_2$\n",
    "- Maka, persamaan garis tersebut adalah\n",
    "$$\n",
    "0 = \\theta_{0} + \\theta_{1} x_{1} + \\theta_{2} x_{2}\n",
    "$$\n",
    "\n",
    "- dengan $\\theta_{0}$, $\\theta_{1}$, dan $\\theta_{2}$ adalah parameter model yang memengaruhi intercept dan kemiringan garis (decision boundary kita)"
   ]
  },
  {
   "cell_type": "markdown",
   "id": "10e0d644",
   "metadata": {},
   "source": [
    "- Artinya, apabila kita memiliki bunga yang nilai $x_1$ dan $x_2$ membuat:\n",
    "  - $\\theta_{0} + \\theta_{1} x_{1} + \\theta_{2} x_{2} > 0$, dengan kata lain ada **di atas** garis, maka bunga tersebut **ber-spesies virginica**.\n",
    "  - $\\theta_{0} + \\theta_{1} x_{1} + \\theta_{2} x_{2} < 0$, dengan kata lain ada **di bawah** garis, maka bunga tersebut ber-spesies **bukan** virginica."
   ]
  },
  {
   "cell_type": "markdown",
   "id": "2893c06e",
   "metadata": {},
   "source": [
    "---\n",
    "- Selanjutnya kita buat penyelesaiannya menggunakan OLS\n",
    "\n",
    "$$\n",
    "\\hat{f}(x) = \\text{sign}(\\tilde{f}(x))\n",
    "$$\n",
    "\n",
    "$$\n",
    "\\tilde{f}(x) = \n",
    "\\begin{pmatrix}\n",
    "1 & x_{1}^{(1)} & x_{2}^{(1)} \\\\\n",
    "\\vdots & \\vdots & \\vdots \\\\\n",
    "1 & x_{1}^{(N)} & x_{2}^{(N)}\n",
    "\\end{pmatrix} \\cdot \n",
    "\\begin{pmatrix}\n",
    "\\theta_{0} \\\\\n",
    "\\theta_{1} \\\\\n",
    "\\theta_{2}\n",
    "\\end{pmatrix}\n",
    "$$\n",
    "\n",
    "$$\n",
    "\\tilde{f}(x) = A \\cdot \\theta\n",
    "$$"
   ]
  },
  {
   "cell_type": "code",
   "execution_count": 6,
   "id": "3215a133",
   "metadata": {
    "scrolled": true
   },
   "outputs": [
    {
     "data": {
      "text/plain": [
       "array([[1. , 5.1, 1.4],\n",
       "       [1. , 4.9, 1.4],\n",
       "       [1. , 4.7, 1.3],\n",
       "       [1. , 4.6, 1.5],\n",
       "       [1. , 5. , 1.4],\n",
       "       [1. , 5.4, 1.7],\n",
       "       [1. , 4.6, 1.4],\n",
       "       [1. , 5. , 1.5],\n",
       "       [1. , 4.4, 1.4],\n",
       "       [1. , 4.9, 1.5],\n",
       "       [1. , 5.4, 1.5],\n",
       "       [1. , 4.8, 1.6],\n",
       "       [1. , 4.8, 1.4],\n",
       "       [1. , 4.3, 1.1],\n",
       "       [1. , 5.8, 1.2],\n",
       "       [1. , 5.7, 1.5],\n",
       "       [1. , 5.4, 1.3],\n",
       "       [1. , 5.1, 1.4],\n",
       "       [1. , 5.7, 1.7],\n",
       "       [1. , 5.1, 1.5],\n",
       "       [1. , 5.4, 1.7],\n",
       "       [1. , 5.1, 1.5],\n",
       "       [1. , 4.6, 1. ],\n",
       "       [1. , 5.1, 1.7],\n",
       "       [1. , 4.8, 1.9],\n",
       "       [1. , 5. , 1.6],\n",
       "       [1. , 5. , 1.6],\n",
       "       [1. , 5.2, 1.5],\n",
       "       [1. , 5.2, 1.4],\n",
       "       [1. , 4.7, 1.6],\n",
       "       [1. , 4.8, 1.6],\n",
       "       [1. , 5.4, 1.5],\n",
       "       [1. , 5.2, 1.5],\n",
       "       [1. , 5.5, 1.4],\n",
       "       [1. , 4.9, 1.5],\n",
       "       [1. , 5. , 1.2],\n",
       "       [1. , 5.5, 1.3],\n",
       "       [1. , 4.9, 1.4],\n",
       "       [1. , 4.4, 1.3],\n",
       "       [1. , 5.1, 1.5],\n",
       "       [1. , 5. , 1.3],\n",
       "       [1. , 4.5, 1.3],\n",
       "       [1. , 4.4, 1.3],\n",
       "       [1. , 5. , 1.6],\n",
       "       [1. , 5.1, 1.9],\n",
       "       [1. , 4.8, 1.4],\n",
       "       [1. , 5.1, 1.6],\n",
       "       [1. , 4.6, 1.4],\n",
       "       [1. , 5.3, 1.5],\n",
       "       [1. , 5. , 1.4],\n",
       "       [1. , 7. , 4.7],\n",
       "       [1. , 6.4, 4.5],\n",
       "       [1. , 6.9, 4.9],\n",
       "       [1. , 5.5, 4. ],\n",
       "       [1. , 6.5, 4.6],\n",
       "       [1. , 5.7, 4.5],\n",
       "       [1. , 6.3, 4.7],\n",
       "       [1. , 4.9, 3.3],\n",
       "       [1. , 6.6, 4.6],\n",
       "       [1. , 5.2, 3.9],\n",
       "       [1. , 5. , 3.5],\n",
       "       [1. , 5.9, 4.2],\n",
       "       [1. , 6. , 4. ],\n",
       "       [1. , 6.1, 4.7],\n",
       "       [1. , 5.6, 3.6],\n",
       "       [1. , 6.7, 4.4],\n",
       "       [1. , 5.6, 4.5],\n",
       "       [1. , 5.8, 4.1],\n",
       "       [1. , 6.2, 4.5],\n",
       "       [1. , 5.6, 3.9],\n",
       "       [1. , 5.9, 4.8],\n",
       "       [1. , 6.1, 4. ],\n",
       "       [1. , 6.3, 4.9],\n",
       "       [1. , 6.1, 4.7],\n",
       "       [1. , 6.4, 4.3],\n",
       "       [1. , 6.6, 4.4],\n",
       "       [1. , 6.8, 4.8],\n",
       "       [1. , 6.7, 5. ],\n",
       "       [1. , 6. , 4.5],\n",
       "       [1. , 5.7, 3.5],\n",
       "       [1. , 5.5, 3.8],\n",
       "       [1. , 5.5, 3.7],\n",
       "       [1. , 5.8, 3.9],\n",
       "       [1. , 6. , 5.1],\n",
       "       [1. , 5.4, 4.5],\n",
       "       [1. , 6. , 4.5],\n",
       "       [1. , 6.7, 4.7],\n",
       "       [1. , 6.3, 4.4],\n",
       "       [1. , 5.6, 4.1],\n",
       "       [1. , 5.5, 4. ],\n",
       "       [1. , 5.5, 4.4],\n",
       "       [1. , 6.1, 4.6],\n",
       "       [1. , 5.8, 4. ],\n",
       "       [1. , 5. , 3.3],\n",
       "       [1. , 5.6, 4.2],\n",
       "       [1. , 5.7, 4.2],\n",
       "       [1. , 5.7, 4.2],\n",
       "       [1. , 6.2, 4.3],\n",
       "       [1. , 5.1, 3. ],\n",
       "       [1. , 5.7, 4.1],\n",
       "       [1. , 6.3, 6. ],\n",
       "       [1. , 5.8, 5.1],\n",
       "       [1. , 7.1, 5.9],\n",
       "       [1. , 6.3, 5.6],\n",
       "       [1. , 6.5, 5.8],\n",
       "       [1. , 7.6, 6.6],\n",
       "       [1. , 4.9, 4.5],\n",
       "       [1. , 7.3, 6.3],\n",
       "       [1. , 6.7, 5.8],\n",
       "       [1. , 7.2, 6.1],\n",
       "       [1. , 6.5, 5.1],\n",
       "       [1. , 6.4, 5.3],\n",
       "       [1. , 6.8, 5.5],\n",
       "       [1. , 5.7, 5. ],\n",
       "       [1. , 5.8, 5.1],\n",
       "       [1. , 6.4, 5.3],\n",
       "       [1. , 6.5, 5.5],\n",
       "       [1. , 7.7, 6.7],\n",
       "       [1. , 7.7, 6.9],\n",
       "       [1. , 6. , 5. ],\n",
       "       [1. , 6.9, 5.7],\n",
       "       [1. , 5.6, 4.9],\n",
       "       [1. , 7.7, 6.7],\n",
       "       [1. , 6.3, 4.9],\n",
       "       [1. , 6.7, 5.7],\n",
       "       [1. , 7.2, 6. ],\n",
       "       [1. , 6.2, 4.8],\n",
       "       [1. , 6.1, 4.9],\n",
       "       [1. , 6.4, 5.6],\n",
       "       [1. , 7.2, 5.8],\n",
       "       [1. , 7.4, 6.1],\n",
       "       [1. , 7.9, 6.4],\n",
       "       [1. , 6.4, 5.6],\n",
       "       [1. , 6.3, 5.1],\n",
       "       [1. , 6.1, 5.6],\n",
       "       [1. , 7.7, 6.1],\n",
       "       [1. , 6.3, 5.6],\n",
       "       [1. , 6.4, 5.5],\n",
       "       [1. , 6. , 4.8],\n",
       "       [1. , 6.9, 5.4],\n",
       "       [1. , 6.7, 5.6],\n",
       "       [1. , 6.9, 5.1],\n",
       "       [1. , 5.8, 5.1],\n",
       "       [1. , 6.8, 5.9],\n",
       "       [1. , 6.7, 5.7],\n",
       "       [1. , 6.7, 5.2],\n",
       "       [1. , 6.3, 5. ],\n",
       "       [1. , 6.5, 5.2],\n",
       "       [1. , 6.2, 5.4],\n",
       "       [1. , 5.9, 5.1]])"
      ]
     },
     "execution_count": 6,
     "metadata": {},
     "output_type": "execute_result"
    }
   ],
   "source": [
    "# Buat matriks A (design matrix)\n",
    "N = len(y)\n",
    "A = np.column_stack([np.ones(N), X])\n",
    "\n",
    "A"
   ]
  },
  {
   "cell_type": "code",
   "execution_count": 7,
   "id": "853901c0",
   "metadata": {},
   "outputs": [
    {
     "data": {
      "text/plain": [
       "array([-1.97951614,  0.04509719,  0.36792573])"
      ]
     },
     "execution_count": 7,
     "metadata": {},
     "output_type": "execute_result"
    }
   ],
   "source": [
    "# Selesaikan theta dengan OLS\n",
    "theta_ols = np.linalg.inv(A.T @ A) @ A.T @ y\n",
    "theta_ols"
   ]
  },
  {
   "cell_type": "code",
   "execution_count": 8,
   "id": "bae36c17",
   "metadata": {},
   "outputs": [
    {
     "data": {
      "text/plain": [
       "array([-1, -1, -1, -1, -1, -1, -1, -1, -1, -1, -1, -1, -1, -1, -1, -1, -1,\n",
       "       -1, -1, -1, -1, -1, -1, -1, -1, -1, -1, -1, -1, -1, -1, -1, -1, -1,\n",
       "       -1, -1, -1, -1, -1, -1, -1, -1, -1, -1, -1, -1, -1, -1, -1, -1,  1,\n",
       "       -1,  1, -1,  1, -1,  1, -1,  1, -1, -1, -1, -1,  1, -1, -1, -1, -1,\n",
       "       -1, -1,  1, -1,  1,  1, -1, -1,  1,  1, -1, -1, -1, -1, -1,  1, -1,\n",
       "       -1,  1, -1, -1, -1, -1, -1, -1, -1, -1, -1, -1, -1, -1, -1,  1,  1,\n",
       "        1,  1,  1,  1, -1,  1,  1,  1,  1,  1,  1,  1,  1,  1,  1,  1,  1,\n",
       "        1,  1,  1,  1,  1,  1,  1,  1,  1,  1,  1,  1,  1,  1,  1,  1,  1,\n",
       "        1,  1,  1,  1,  1,  1,  1,  1,  1,  1,  1,  1,  1,  1])"
      ]
     },
     "execution_count": 8,
     "metadata": {},
     "output_type": "execute_result"
    }
   ],
   "source": [
    "# Cari hasil prediksi\n",
    "y_tilde = A @ theta_ols\n",
    "y_hat = 2 * (y_tilde>0).astype(int) - 1\n",
    "y_hat"
   ]
  },
  {
   "cell_type": "code",
   "execution_count": 9,
   "id": "778c37f5",
   "metadata": {},
   "outputs": [
    {
     "name": "stdout",
     "output_type": "stream",
     "text": [
      "[[87 13]\n",
      " [ 1 49]]\n",
      "error rate = 9.33 %\n"
     ]
    }
   ],
   "source": [
    "# Cek error rate dari confusion matrix\n",
    "from sklearn.metrics import confusion_matrix\n",
    "\n",
    "conf_mat = confusion_matrix(y, y_hat)\n",
    "print(conf_mat)\n",
    "\n",
    "error_rate = 1 - (np.diag(conf_mat).sum()/N)\n",
    "print(f'error rate = {100*error_rate:.2f} %')"
   ]
  },
  {
   "cell_type": "markdown",
   "id": "7393a2e1",
   "metadata": {},
   "source": [
    "- Hasilnya lumayan, error ratenya cukup kecil hanya 9.33%"
   ]
  },
  {
   "cell_type": "markdown",
   "id": "f4558e79",
   "metadata": {},
   "source": [
    "---\n",
    "**Interpretasi Fisik**"
   ]
  },
  {
   "cell_type": "markdown",
   "id": "9ac3a0ce",
   "metadata": {},
   "source": [
    "- Kita akan buat 4 grafik\n",
    "  1. grafik asli (data) - kiri atas\n",
    "  2. grafik hasil klasifikasi dengan OLS - kanan atas\n",
    "  3. grafik missklasifikasi - kiri bawah\n",
    "  4. grafik decision boundary - kanan bawah"
   ]
  },
  {
   "cell_type": "markdown",
   "id": "d9f8a6e9",
   "metadata": {},
   "source": [
    "---\n",
    "- untuk membangun persamaan garis decision boundary, kita asumsikan $x_{2}$ sama dengan $y$ dan $x_{1}$ sama dengan $x$\n",
    "- kemudian tinggal cari persamaan $y = mx + c$\n",
    "- maka akan kita dapatkan\n",
    "\n",
    "$$\n",
    "\\begin{align*}\n",
    "0 &= \\theta_{0} + \\theta_{1} x_{1} + \\theta_{2} x_{2} \\\\ \n",
    "\\theta_{2} x_{2} &= - \\theta_{1} x_{1} - \\theta_{0} \\\\ \n",
    "x_{2} &= - \\cfrac{\\theta_{1}}{\\theta_{2}} x_{1} - \\cfrac{\\theta_{0}}{\\theta_{2}}\n",
    "\\end{align*}\n",
    "$$\n",
    "\n",
    "- dengan $m = - \\cfrac{\\theta_{1}}{\\theta_{2}}$ dan $c = - \\cfrac{\\theta_{0}}{\\theta_{2}}$"
   ]
  },
  {
   "cell_type": "code",
   "execution_count": 15,
   "id": "db1818ff",
   "metadata": {},
   "outputs": [
    {
     "data": {
      "image/png": "[encoded data removed]",
      "text/plain": [
       "<Figure size 1224x1080 with 4 Axes>"
      ]
     },
     "metadata": {
      "needs_background": "light"
     },
     "output_type": "display_data"
    }
   ],
   "source": [
    "# Perbandingan plot\n",
    "fig, ax = plt.subplots(nrows=2, ncols=2, figsize=(17,15))\n",
    "\n",
    "# Visualisasi data awal\n",
    "ax[0,0].scatter(X['sepal length (cm)'][y==1], X['petal length (cm)'][y==1],\n",
    "              c='red', label='virginica [DATA ASLI]')\n",
    "ax[0,0].scatter(X['sepal length (cm)'][y!=1], X['petal length (cm)'][y!=1],\n",
    "              c='blue', label='bukan virginica [DATA ASLI]')\n",
    "ax[0,0].legend()\n",
    "ax[0,0].set_xlabel('sepal length (cm)')\n",
    "ax[0,0].set_ylabel('petal length (cm)')\n",
    "ax[0,0].set_title('Sebaran Data Aktual')\n",
    "\n",
    "# Visualisasi data setelah menggunakan OLS Classification\n",
    "ax[0,1].scatter(X['sepal length (cm)'][y_hat==1], X['petal length (cm)'][y_hat==1],\n",
    "              c='red', label='virginica [OLS]')\n",
    "ax[0,1].scatter(X['sepal length (cm)'][y_hat!=1], X['petal length (cm)'][y_hat!=1],\n",
    "              c='blue', label='bukan virginica [OLS]')\n",
    "ax[0,1].legend()\n",
    "ax[0,1].set_xlabel('sepal length (cm)')\n",
    "ax[0,1].set_ylabel('petal length (cm)')\n",
    "ax[0,1].set_title('Sebaran Data Setelah diklasifikasi dengan OLS')\n",
    "\n",
    "# Visualisasi data yang misklasifikasi\n",
    "m = -theta_ols[1]/theta_ols[2]\n",
    "c = -theta_ols[0]/theta_ols[2]\n",
    "x_1_support = np.linspace(np.min(X['sepal length (cm)']), np.max(X['sepal length (cm)']), 100)\n",
    "x_2_support = m * x_1_support + c\n",
    "ax[1,0].plot(x_1_support, x_2_support, 'k', label=f'decision boundary, \\n $0 = {theta_ols[0]:.2f} + {theta_ols[1]:.2f}x_{1} + {theta_ols[2]:.2f}x_{2}$')\n",
    "\n",
    "ax[1,0].scatter(X['sepal length (cm)'][y==y_hat], X['petal length (cm)'][y==y_hat],\n",
    "                c='grey', label='correct classification')\n",
    "ax[1,0].scatter(X['sepal length (cm)'][y!=y_hat], X['petal length (cm)'][y!=y_hat],\n",
    "                c='red', label='missclassification')\n",
    "ax[1,0].legend()\n",
    "ax[1,0].set_xlabel('sepal length (cm) - $x_{1}$')\n",
    "ax[1,0].set_ylabel('petal length (cm) - $x_{2}$')\n",
    "ax[1,0].set_title('Daerah Misklasifikasi')\n",
    "\n",
    "# Visualisasi decision boundary\n",
    "# Garis berbentuk\n",
    "# x_2 = m x_1 + c\n",
    "m = -theta_ols[1]/theta_ols[2]\n",
    "c = -theta_ols[0]/theta_ols[2]\n",
    "x_1_support = np.linspace(np.min(X['sepal length (cm)']), np.max(X['sepal length (cm)']), 100)\n",
    "x_2_support = m * x_1_support + c\n",
    "ax[1,1].plot(x_1_support, x_2_support, 'k', label=f'decision boundary, \\n $0 = {theta_ols[0]:.2f} + {theta_ols[1]:.2f}x_{1} + {theta_ols[2]:.2f}x_{2}$')\n",
    "ax[1,1].scatter(X['sepal length (cm)'][y_hat==1], X['petal length (cm)'][y_hat==1],\n",
    "              c='red', label='virginica [OLS]')\n",
    "ax[1,1].scatter(X['sepal length (cm)'][y_hat!=1], X['petal length (cm)'][y_hat!=1],\n",
    "              c='blue', label='bukan virginica [OLS]')\n",
    "ax[1,1].legend()\n",
    "ax[1,1].set_xlabel('sepal length (cm) - $x_{1}$')\n",
    "ax[1,1].set_ylabel('petal length (cm) - $x_{2}$')\n",
    "ax[1,1].set_title('Decision Boundary pada klasifikasi')\n",
    "\n",
    "plt.plot();"
   ]
  },
  {
   "cell_type": "markdown",
   "id": "81d5312d",
   "metadata": {},
   "source": [
    "Dari 4 grafik di atas didapatkan:\n",
    "- Adanya misklasifikasi\n",
    "- Ini wajar, karena: \n",
    "  - data aslinya tidak sepenuhnya terpisah\n",
    "  - garis pemisah kita masih berupa garis lurus\n",
    "- Daerah misklasifikasi tepat di daerah yang tidak sepenuhnya terpisah\n",
    "- Semua yang ada di bawah garis decision boundary, menjadi class `bukan virginica`\n",
    "- Sedangkan semua yang ada di atas garis decision boundary, menjadi class `virginica`"
   ]
  },
  {
   "cell_type": "code",
   "execution_count": null,
   "id": "c098ed18",
   "metadata": {},
   "outputs": [],
   "source": []
  }
 ],
 "metadata": {
  "kernelspec": {
   "display_name": "Python 3 (ipykernel)",
   "language": "python",
   "name": "python3"
  },
  "language_info": {
   "codemirror_mode": {
    "name": "ipython",
    "version": 3
   },
   "file_extension": ".py",
   "mimetype": "text/x-python",
   "name": "python",
   "nbconvert_exporter": "python",
   "pygments_lexer": "ipython3",
   "version": "3.9.7"
  }
 },
 "nbformat": 4,
 "nbformat_minor": 5
}
